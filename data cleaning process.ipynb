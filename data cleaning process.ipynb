{
 "cells": [
  {
   "cell_type": "code",
   "execution_count": 1,
   "metadata": {},
   "outputs": [],
   "source": [
    "# General hypothesis- We would like to use this data set to see if the pokemon with \n",
    "# the highest stats are the hardest to capture."
   ]
  },
  {
   "cell_type": "code",
   "execution_count": 18,
   "metadata": {
    "scrolled": true
   },
   "outputs": [],
   "source": [
    "import json\n",
    "import requests\n",
    "import numpy as np\n",
    "import pandas as pd\n",
    "import matplotlib.pyplot as plt\n",
    "\n",
    "#Load in pkmn-go.csv and pokemon-spawns.csv files, create pandas dbs\n",
    "pkmn_go=\"Resources/pkmn-go.csv \"\n",
    "pokemon_csv= pd.read_csv(pkmn_go)\n",
    "\n",
    "bay_area_spawns=\"Resources/pokemon-spawns.csv \"\n",
    "bay_area_csv= pd.read_csv(bay_area_spawns)\n"
   ]
  },
  {
   "cell_type": "code",
   "execution_count": 14,
   "metadata": {
    "scrolled": true
   },
   "outputs": [
    {
     "data": {
      "text/html": [
       "<div>\n",
       "<style scoped>\n",
       "    .dataframe tbody tr th:only-of-type {\n",
       "        vertical-align: middle;\n",
       "    }\n",
       "\n",
       "    .dataframe tbody tr th {\n",
       "        vertical-align: top;\n",
       "    }\n",
       "\n",
       "    .dataframe thead th {\n",
       "        text-align: right;\n",
       "    }\n",
       "</style>\n",
       "<table border=\"1\" class=\"dataframe\">\n",
       "  <thead>\n",
       "    <tr style=\"text-align: right;\">\n",
       "      <th></th>\n",
       "      <th>name</th>\n",
       "      <th>stamina</th>\n",
       "      <th>atk</th>\n",
       "      <th>def</th>\n",
       "      <th>capture_rate</th>\n",
       "      <th>flee_rate</th>\n",
       "      <th>spawn_chance</th>\n",
       "      <th>primary</th>\n",
       "      <th>secondary</th>\n",
       "      <th>cp</th>\n",
       "      <th>url</th>\n",
       "    </tr>\n",
       "  </thead>\n",
       "  <tbody>\n",
       "    <tr>\n",
       "      <th>0</th>\n",
       "      <td>Bulbasaur</td>\n",
       "      <td>90</td>\n",
       "      <td>126</td>\n",
       "      <td>126</td>\n",
       "      <td>0.16</td>\n",
       "      <td>0.10</td>\n",
       "      <td>69.0</td>\n",
       "      <td>Grass</td>\n",
       "      <td>Poison</td>\n",
       "      <td>1079</td>\n",
       "      <td>http://cdn.bulbagarden.net/upload/thumb/2/21/0...</td>\n",
       "    </tr>\n",
       "    <tr>\n",
       "      <th>1</th>\n",
       "      <td>Ivysaur</td>\n",
       "      <td>120</td>\n",
       "      <td>156</td>\n",
       "      <td>158</td>\n",
       "      <td>0.08</td>\n",
       "      <td>0.07</td>\n",
       "      <td>4.2</td>\n",
       "      <td>Grass</td>\n",
       "      <td>Poison</td>\n",
       "      <td>1643</td>\n",
       "      <td>http://cdn.bulbagarden.net/upload/thumb/7/73/0...</td>\n",
       "    </tr>\n",
       "    <tr>\n",
       "      <th>2</th>\n",
       "      <td>Venusaur</td>\n",
       "      <td>160</td>\n",
       "      <td>198</td>\n",
       "      <td>200</td>\n",
       "      <td>0.04</td>\n",
       "      <td>0.05</td>\n",
       "      <td>1.7</td>\n",
       "      <td>Grass</td>\n",
       "      <td>Poison</td>\n",
       "      <td>2598</td>\n",
       "      <td>http://cdn.bulbagarden.net/upload/thumb/a/ae/0...</td>\n",
       "    </tr>\n",
       "    <tr>\n",
       "      <th>3</th>\n",
       "      <td>Charmander</td>\n",
       "      <td>78</td>\n",
       "      <td>128</td>\n",
       "      <td>108</td>\n",
       "      <td>0.16</td>\n",
       "      <td>0.10</td>\n",
       "      <td>25.3</td>\n",
       "      <td>Fire</td>\n",
       "      <td>NaN</td>\n",
       "      <td>962</td>\n",
       "      <td>http://cdn.bulbagarden.net/upload/thumb/7/73/0...</td>\n",
       "    </tr>\n",
       "    <tr>\n",
       "      <th>4</th>\n",
       "      <td>Charmeleon</td>\n",
       "      <td>116</td>\n",
       "      <td>160</td>\n",
       "      <td>140</td>\n",
       "      <td>0.08</td>\n",
       "      <td>0.07</td>\n",
       "      <td>1.2</td>\n",
       "      <td>Fire</td>\n",
       "      <td>NaN</td>\n",
       "      <td>1568</td>\n",
       "      <td>http://cdn.bulbagarden.net/upload/thumb/4/4a/0...</td>\n",
       "    </tr>\n",
       "  </tbody>\n",
       "</table>\n",
       "</div>"
      ],
      "text/plain": [
       "         name  stamina  atk  def  capture_rate  flee_rate  spawn_chance  \\\n",
       "0   Bulbasaur       90  126  126          0.16       0.10          69.0   \n",
       "1     Ivysaur      120  156  158          0.08       0.07           4.2   \n",
       "2    Venusaur      160  198  200          0.04       0.05           1.7   \n",
       "3  Charmander       78  128  108          0.16       0.10          25.3   \n",
       "4  Charmeleon      116  160  140          0.08       0.07           1.2   \n",
       "\n",
       "  primary secondary    cp                                                url  \n",
       "0   Grass    Poison  1079  http://cdn.bulbagarden.net/upload/thumb/2/21/0...  \n",
       "1   Grass    Poison  1643  http://cdn.bulbagarden.net/upload/thumb/7/73/0...  \n",
       "2   Grass    Poison  2598  http://cdn.bulbagarden.net/upload/thumb/a/ae/0...  \n",
       "3    Fire       NaN   962  http://cdn.bulbagarden.net/upload/thumb/7/73/0...  \n",
       "4    Fire       NaN  1568  http://cdn.bulbagarden.net/upload/thumb/4/4a/0...  "
      ]
     },
     "execution_count": 14,
     "metadata": {},
     "output_type": "execute_result"
    }
   ],
   "source": [
    "pokemon_csv.head()\n"
   ]
  },
  {
   "cell_type": "code",
   "execution_count": 47,
   "metadata": {
    "scrolled": true
   },
   "outputs": [
    {
     "data": {
      "image/png": "[encoded data removed]",
      "text/plain": [
       "<Figure size 432x288 with 1 Axes>"
      ]
     },
     "metadata": {},
     "output_type": "display_data"
    }
   ],
   "source": [
    "# pie chart of all types of pokemon\n",
    "#take \"primary\" column, create lists to plot\n",
    "types = pokemon_csv[\"primary\"].value_counts(dropna=False).keys().tolist()\n",
    "counts = pokemon_csv[\"primary\"].value_counts(dropna=False).tolist()\n",
    "\n",
    "# Data to plot\n",
    "types_pie = []\n",
    "counts_pie = []\n",
    "\n",
    "for x, y in types_count_dict.items():\n",
    "    types_pie.append(x)\n",
    "    counts_pie.append(y)\n",
    "\n",
    "# Plot\n",
    "plt.pie(counts_pie, labels=types_pie, labeldistance=1.1)\n",
    "plt.title(\"Pokemon by Type\")\n",
    "plt.axis('equal')\n",
    "plt.show()"
   ]
  },
  {
   "cell_type": "code",
   "execution_count": null,
   "metadata": {},
   "outputs": [],
   "source": []
  },
  {
   "cell_type": "code",
   "execution_count": null,
   "metadata": {},
   "outputs": [],
   "source": []
  },
  {
   "cell_type": "code",
   "execution_count": null,
   "metadata": {},
   "outputs": [],
   "source": []
  }
 ],
 "metadata": {
  "kernelspec": {
   "display_name": "Python [conda env:PythonData] *",
   "language": "python",
   "name": "conda-env-PythonData-py"
  },
  "language_info": {
   "codemirror_mode": {
    "name": "ipython",
    "version": 3
   },
   "file_extension": ".py",
   "mimetype": "text/x-python",
   "name": "python",
   "nbconvert_exporter": "python",
   "pygments_lexer": "ipython3",
   "version": "3.6.10"
  }
 },
 "nbformat": 4,
 "nbformat_minor": 5
}
