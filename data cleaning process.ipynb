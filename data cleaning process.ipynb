{
 "cells": [
  {
   "cell_type": "code",
   "execution_count": 1,
   "metadata": {},
   "outputs": [],
   "source": [
    "# General hypothesis- We would like to use this data set to see if the pokemon with \n",
    "# the highest stats are the hardest to capture."
   ]
  },
  {
   "cell_type": "code",
   "execution_count": 2,
   "metadata": {
    "scrolled": true
   },
   "outputs": [
    {
     "data": {
      "text/html": [
       "<div>\n",
       "<style scoped>\n",
       "    .dataframe tbody tr th:only-of-type {\n",
       "        vertical-align: middle;\n",
       "    }\n",
       "\n",
       "    .dataframe tbody tr th {\n",
       "        vertical-align: top;\n",
       "    }\n",
       "\n",
       "    .dataframe thead th {\n",
       "        text-align: right;\n",
       "    }\n",
       "</style>\n",
       "<table border=\"1\" class=\"dataframe\">\n",
       "  <thead>\n",
       "    <tr style=\"text-align: right;\">\n",
       "      <th></th>\n",
       "      <th>name</th>\n",
       "      <th>stamina</th>\n",
       "      <th>atk</th>\n",
       "      <th>def</th>\n",
       "      <th>capture_rate</th>\n",
       "      <th>flee_rate</th>\n",
       "      <th>spawn_chance</th>\n",
       "      <th>primary</th>\n",
       "      <th>secondary</th>\n",
       "      <th>cp</th>\n",
       "      <th>url</th>\n",
       "      <th>s2_id</th>\n",
       "      <th>s2_token</th>\n",
       "      <th>num</th>\n",
       "      <th>lat</th>\n",
       "      <th>lng</th>\n",
       "      <th>encounter_ms</th>\n",
       "      <th>disppear_ms</th>\n",
       "    </tr>\n",
       "  </thead>\n",
       "  <tbody>\n",
       "    <tr>\n",
       "      <th>0</th>\n",
       "      <td>Bulbasaur</td>\n",
       "      <td>90</td>\n",
       "      <td>126</td>\n",
       "      <td>126</td>\n",
       "      <td>0.16</td>\n",
       "      <td>0.10</td>\n",
       "      <td>69.0</td>\n",
       "      <td>Grass</td>\n",
       "      <td>Poison</td>\n",
       "      <td>1079</td>\n",
       "      <td>http://cdn.bulbagarden.net/upload/thumb/2/21/0...</td>\n",
       "      <td>-9182898735737209000</td>\n",
       "      <td>808fca40de3</td>\n",
       "      <td>1</td>\n",
       "      <td>37.352721</td>\n",
       "      <td>-121.965752</td>\n",
       "      <td>1469520961740</td>\n",
       "      <td>1469520283284</td>\n",
       "    </tr>\n",
       "    <tr>\n",
       "      <th>1</th>\n",
       "      <td>Bulbasaur</td>\n",
       "      <td>90</td>\n",
       "      <td>126</td>\n",
       "      <td>126</td>\n",
       "      <td>0.16</td>\n",
       "      <td>0.10</td>\n",
       "      <td>69.0</td>\n",
       "      <td>Grass</td>\n",
       "      <td>Poison</td>\n",
       "      <td>1079</td>\n",
       "      <td>http://cdn.bulbagarden.net/upload/thumb/2/21/0...</td>\n",
       "      <td>-9182927600064922000</td>\n",
       "      <td>808fb000163</td>\n",
       "      <td>1</td>\n",
       "      <td>37.386986</td>\n",
       "      <td>-122.173674</td>\n",
       "      <td>-1</td>\n",
       "      <td>1469520478385</td>\n",
       "    </tr>\n",
       "    <tr>\n",
       "      <th>2</th>\n",
       "      <td>Bulbasaur</td>\n",
       "      <td>90</td>\n",
       "      <td>126</td>\n",
       "      <td>126</td>\n",
       "      <td>0.16</td>\n",
       "      <td>0.10</td>\n",
       "      <td>69.0</td>\n",
       "      <td>Grass</td>\n",
       "      <td>Poison</td>\n",
       "      <td>1079</td>\n",
       "      <td>http://cdn.bulbagarden.net/upload/thumb/2/21/0...</td>\n",
       "      <td>-9182910327853941000</td>\n",
       "      <td>808fbfb5ca1</td>\n",
       "      <td>1</td>\n",
       "      <td>37.562587</td>\n",
       "      <td>-122.033978</td>\n",
       "      <td>1469522340772</td>\n",
       "      <td>1469521691605</td>\n",
       "    </tr>\n",
       "    <tr>\n",
       "      <th>3</th>\n",
       "      <td>Bulbasaur</td>\n",
       "      <td>90</td>\n",
       "      <td>126</td>\n",
       "      <td>126</td>\n",
       "      <td>0.16</td>\n",
       "      <td>0.10</td>\n",
       "      <td>69.0</td>\n",
       "      <td>Grass</td>\n",
       "      <td>Poison</td>\n",
       "      <td>1079</td>\n",
       "      <td>http://cdn.bulbagarden.net/upload/thumb/2/21/0...</td>\n",
       "      <td>-9182956200252146000</td>\n",
       "      <td>808f95fd6c5</td>\n",
       "      <td>1</td>\n",
       "      <td>37.577153</td>\n",
       "      <td>-122.082546</td>\n",
       "      <td>1469522541812</td>\n",
       "      <td>1469521693152</td>\n",
       "    </tr>\n",
       "    <tr>\n",
       "      <th>4</th>\n",
       "      <td>Bulbasaur</td>\n",
       "      <td>90</td>\n",
       "      <td>126</td>\n",
       "      <td>126</td>\n",
       "      <td>0.16</td>\n",
       "      <td>0.10</td>\n",
       "      <td>69.0</td>\n",
       "      <td>Grass</td>\n",
       "      <td>Poison</td>\n",
       "      <td>1079</td>\n",
       "      <td>http://cdn.bulbagarden.net/upload/thumb/2/21/0...</td>\n",
       "      <td>-9182984574953587000</td>\n",
       "      <td>808f7c2eb87</td>\n",
       "      <td>1</td>\n",
       "      <td>37.717652</td>\n",
       "      <td>-122.453226</td>\n",
       "      <td>1469522434748</td>\n",
       "      <td>1469521960685</td>\n",
       "    </tr>\n",
       "    <tr>\n",
       "      <th>...</th>\n",
       "      <td>...</td>\n",
       "      <td>...</td>\n",
       "      <td>...</td>\n",
       "      <td>...</td>\n",
       "      <td>...</td>\n",
       "      <td>...</td>\n",
       "      <td>...</td>\n",
       "      <td>...</td>\n",
       "      <td>...</td>\n",
       "      <td>...</td>\n",
       "      <td>...</td>\n",
       "      <td>...</td>\n",
       "      <td>...</td>\n",
       "      <td>...</td>\n",
       "      <td>...</td>\n",
       "      <td>...</td>\n",
       "      <td>...</td>\n",
       "      <td>...</td>\n",
       "    </tr>\n",
       "    <tr>\n",
       "      <th>281143</th>\n",
       "      <td>Dragonair</td>\n",
       "      <td>122</td>\n",
       "      <td>170</td>\n",
       "      <td>152</td>\n",
       "      <td>0.08</td>\n",
       "      <td>0.06</td>\n",
       "      <td>2.0</td>\n",
       "      <td>Dragon</td>\n",
       "      <td>NaN</td>\n",
       "      <td>1760</td>\n",
       "      <td>http://cdn.bulbagarden.net/upload/thumb/9/93/1...</td>\n",
       "      <td>-9185790380451299000</td>\n",
       "      <td>8085845142b</td>\n",
       "      <td>148</td>\n",
       "      <td>37.860065</td>\n",
       "      <td>-122.485598</td>\n",
       "      <td>1469558403276</td>\n",
       "      <td>1469557938584</td>\n",
       "    </tr>\n",
       "    <tr>\n",
       "      <th>281144</th>\n",
       "      <td>Dragonair</td>\n",
       "      <td>122</td>\n",
       "      <td>170</td>\n",
       "      <td>152</td>\n",
       "      <td>0.08</td>\n",
       "      <td>0.06</td>\n",
       "      <td>2.0</td>\n",
       "      <td>Dragon</td>\n",
       "      <td>NaN</td>\n",
       "      <td>1760</td>\n",
       "      <td>http://cdn.bulbagarden.net/upload/thumb/9/93/1...</td>\n",
       "      <td>-9185790380451299000</td>\n",
       "      <td>8085845142b</td>\n",
       "      <td>148</td>\n",
       "      <td>37.860065</td>\n",
       "      <td>-122.485598</td>\n",
       "      <td>1469558403276</td>\n",
       "      <td>1469557938645</td>\n",
       "    </tr>\n",
       "    <tr>\n",
       "      <th>281145</th>\n",
       "      <td>Dragonair</td>\n",
       "      <td>122</td>\n",
       "      <td>170</td>\n",
       "      <td>152</td>\n",
       "      <td>0.08</td>\n",
       "      <td>0.06</td>\n",
       "      <td>2.0</td>\n",
       "      <td>Dragon</td>\n",
       "      <td>NaN</td>\n",
       "      <td>1760</td>\n",
       "      <td>http://cdn.bulbagarden.net/upload/thumb/9/93/1...</td>\n",
       "      <td>-9185794164317487000</td>\n",
       "      <td>808580e0793</td>\n",
       "      <td>148</td>\n",
       "      <td>37.806800</td>\n",
       "      <td>-122.423853</td>\n",
       "      <td>1469570699180</td>\n",
       "      <td>1469570176378</td>\n",
       "    </tr>\n",
       "    <tr>\n",
       "      <th>281146</th>\n",
       "      <td>Dragonair</td>\n",
       "      <td>122</td>\n",
       "      <td>170</td>\n",
       "      <td>152</td>\n",
       "      <td>0.08</td>\n",
       "      <td>0.06</td>\n",
       "      <td>2.0</td>\n",
       "      <td>Dragon</td>\n",
       "      <td>NaN</td>\n",
       "      <td>1760</td>\n",
       "      <td>http://cdn.bulbagarden.net/upload/thumb/9/93/1...</td>\n",
       "      <td>-9185794164317487000</td>\n",
       "      <td>808580e0793</td>\n",
       "      <td>148</td>\n",
       "      <td>37.806800</td>\n",
       "      <td>-122.423853</td>\n",
       "      <td>1469570699180</td>\n",
       "      <td>1469570176379</td>\n",
       "    </tr>\n",
       "    <tr>\n",
       "      <th>281147</th>\n",
       "      <td>Dragonair</td>\n",
       "      <td>122</td>\n",
       "      <td>170</td>\n",
       "      <td>152</td>\n",
       "      <td>0.08</td>\n",
       "      <td>0.06</td>\n",
       "      <td>2.0</td>\n",
       "      <td>Dragon</td>\n",
       "      <td>NaN</td>\n",
       "      <td>1760</td>\n",
       "      <td>http://cdn.bulbagarden.net/upload/thumb/9/93/1...</td>\n",
       "      <td>-9185794164317487000</td>\n",
       "      <td>808580e0793</td>\n",
       "      <td>148</td>\n",
       "      <td>37.806800</td>\n",
       "      <td>-122.423853</td>\n",
       "      <td>1469570699180</td>\n",
       "      <td>1469570176509</td>\n",
       "    </tr>\n",
       "  </tbody>\n",
       "</table>\n",
       "<p>281148 rows × 18 columns</p>\n",
       "</div>"
      ],
      "text/plain": [
       "             name  stamina  atk  def  capture_rate  flee_rate  spawn_chance  \\\n",
       "0       Bulbasaur       90  126  126          0.16       0.10          69.0   \n",
       "1       Bulbasaur       90  126  126          0.16       0.10          69.0   \n",
       "2       Bulbasaur       90  126  126          0.16       0.10          69.0   \n",
       "3       Bulbasaur       90  126  126          0.16       0.10          69.0   \n",
       "4       Bulbasaur       90  126  126          0.16       0.10          69.0   \n",
       "...           ...      ...  ...  ...           ...        ...           ...   \n",
       "281143  Dragonair      122  170  152          0.08       0.06           2.0   \n",
       "281144  Dragonair      122  170  152          0.08       0.06           2.0   \n",
       "281145  Dragonair      122  170  152          0.08       0.06           2.0   \n",
       "281146  Dragonair      122  170  152          0.08       0.06           2.0   \n",
       "281147  Dragonair      122  170  152          0.08       0.06           2.0   \n",
       "\n",
       "       primary secondary    cp  \\\n",
       "0        Grass    Poison  1079   \n",
       "1        Grass    Poison  1079   \n",
       "2        Grass    Poison  1079   \n",
       "3        Grass    Poison  1079   \n",
       "4        Grass    Poison  1079   \n",
       "...        ...       ...   ...   \n",
       "281143  Dragon       NaN  1760   \n",
       "281144  Dragon       NaN  1760   \n",
       "281145  Dragon       NaN  1760   \n",
       "281146  Dragon       NaN  1760   \n",
       "281147  Dragon       NaN  1760   \n",
       "\n",
       "                                                      url  \\\n",
       "0       http://cdn.bulbagarden.net/upload/thumb/2/21/0...   \n",
       "1       http://cdn.bulbagarden.net/upload/thumb/2/21/0...   \n",
       "2       http://cdn.bulbagarden.net/upload/thumb/2/21/0...   \n",
       "3       http://cdn.bulbagarden.net/upload/thumb/2/21/0...   \n",
       "4       http://cdn.bulbagarden.net/upload/thumb/2/21/0...   \n",
       "...                                                   ...   \n",
       "281143  http://cdn.bulbagarden.net/upload/thumb/9/93/1...   \n",
       "281144  http://cdn.bulbagarden.net/upload/thumb/9/93/1...   \n",
       "281145  http://cdn.bulbagarden.net/upload/thumb/9/93/1...   \n",
       "281146  http://cdn.bulbagarden.net/upload/thumb/9/93/1...   \n",
       "281147  http://cdn.bulbagarden.net/upload/thumb/9/93/1...   \n",
       "\n",
       "                      s2_id     s2_token  num        lat         lng  \\\n",
       "0      -9182898735737209000  808fca40de3    1  37.352721 -121.965752   \n",
       "1      -9182927600064922000  808fb000163    1  37.386986 -122.173674   \n",
       "2      -9182910327853941000  808fbfb5ca1    1  37.562587 -122.033978   \n",
       "3      -9182956200252146000  808f95fd6c5    1  37.577153 -122.082546   \n",
       "4      -9182984574953587000  808f7c2eb87    1  37.717652 -122.453226   \n",
       "...                     ...          ...  ...        ...         ...   \n",
       "281143 -9185790380451299000  8085845142b  148  37.860065 -122.485598   \n",
       "281144 -9185790380451299000  8085845142b  148  37.860065 -122.485598   \n",
       "281145 -9185794164317487000  808580e0793  148  37.806800 -122.423853   \n",
       "281146 -9185794164317487000  808580e0793  148  37.806800 -122.423853   \n",
       "281147 -9185794164317487000  808580e0793  148  37.806800 -122.423853   \n",
       "\n",
       "         encounter_ms    disppear_ms  \n",
       "0       1469520961740  1469520283284  \n",
       "1                  -1  1469520478385  \n",
       "2       1469522340772  1469521691605  \n",
       "3       1469522541812  1469521693152  \n",
       "4       1469522434748  1469521960685  \n",
       "...               ...            ...  \n",
       "281143  1469558403276  1469557938584  \n",
       "281144  1469558403276  1469557938645  \n",
       "281145  1469570699180  1469570176378  \n",
       "281146  1469570699180  1469570176379  \n",
       "281147  1469570699180  1469570176509  \n",
       "\n",
       "[281148 rows x 18 columns]"
      ]
     },
     "execution_count": 2,
     "metadata": {},
     "output_type": "execute_result"
    }
   ],
   "source": [
    "import json\n",
    "import requests\n",
    "import numpy as np\n",
    "import pandas as pd\n",
    "import matplotlib.pyplot as plt\n",
    "from scipy.stats import linregress\n",
    "\n",
    "#Save from CSVs\n",
    "pk_go_csv = pd.read_csv(\"Resources/pkmn-go.csv\")\n",
    "poke_spawns = pd.read_csv(\"Resources/pokemon-spawns.csv\")\n",
    "\n",
    "merged_csv = pd.merge(pk_go_csv, poke_spawns, on=\"name\")\n",
    "merged_csv.head(None)\n",
    "\n",
    "cleaned_csv = merged_csv.drop_duplicates()\n",
    "\n",
    "color_dict = {'Bug':'lightgreen', 'Dragon': 'darkpurple', 'Electric': 'yellow', 'Fairy': 'lightpink',\n",
    "             'Fighting': 'darkred', 'Fire': 'orange', 'Ghost': 'purple', 'Grass': 'lightgreen', 'Ground': 'lightbrown',\n",
    "             'Ice': 'lightblue', 'Normal': 'grey', 'Poison': 'light purple', 'Rock': 'brown', 'Water': 'lightblue'}\n",
    "cleaned_csv.reset_index(drop=True).head(None)"
   ]
  },
  {
   "cell_type": "code",
   "execution_count": null,
   "metadata": {
    "scrolled": true
   },
   "outputs": [],
   "source": [
    "\n"
   ]
  },
  {
   "cell_type": "code",
   "execution_count": 3,
   "metadata": {
    "scrolled": true
   },
   "outputs": [
    {
     "ename": "NameError",
     "evalue": "name 'labels' is not defined",
     "output_type": "error",
     "traceback": [
      "\u001b[1;31m---------------------------------------------------------------------------\u001b[0m",
      "\u001b[1;31mNameError\u001b[0m                                 Traceback (most recent call last)",
      "\u001b[1;32m<ipython-input-3-2432ddd8d749>\u001b[0m in \u001b[0;36m<module>\u001b[1;34m\u001b[0m\n\u001b[0;32m      4\u001b[0m \u001b[0mcounts\u001b[0m \u001b[1;33m=\u001b[0m \u001b[0mcleaned_csv\u001b[0m\u001b[1;33m[\u001b[0m\u001b[1;34m\"primary\"\u001b[0m\u001b[1;33m]\u001b[0m\u001b[1;33m.\u001b[0m\u001b[0mvalue_counts\u001b[0m\u001b[1;33m(\u001b[0m\u001b[0mdropna\u001b[0m\u001b[1;33m=\u001b[0m\u001b[1;32mFalse\u001b[0m\u001b[1;33m)\u001b[0m\u001b[1;33m.\u001b[0m\u001b[0mtolist\u001b[0m\u001b[1;33m(\u001b[0m\u001b[1;33m)\u001b[0m\u001b[1;33m\u001b[0m\u001b[1;33m\u001b[0m\u001b[0m\n\u001b[0;32m      5\u001b[0m \u001b[1;33m\u001b[0m\u001b[0m\n\u001b[1;32m----> 6\u001b[1;33m \u001b[0mplt\u001b[0m\u001b[1;33m.\u001b[0m\u001b[0mpie\u001b[0m\u001b[1;33m(\u001b[0m\u001b[0mcounts\u001b[0m\u001b[1;33m,\u001b[0m \u001b[0mlabels\u001b[0m\u001b[1;33m=\u001b[0m\u001b[0mlabels\u001b[0m\u001b[1;33m,\u001b[0m \u001b[0mlabeldistance\u001b[0m\u001b[1;33m=\u001b[0m\u001b[1;32mNone\u001b[0m\u001b[1;33m)\u001b[0m\u001b[1;33m\u001b[0m\u001b[1;33m\u001b[0m\u001b[0m\n\u001b[0m\u001b[0;32m      7\u001b[0m \u001b[0mplt\u001b[0m\u001b[1;33m.\u001b[0m\u001b[0mtitle\u001b[0m\u001b[1;33m(\u001b[0m\u001b[1;34m\"Pokemon by Type\"\u001b[0m\u001b[1;33m)\u001b[0m\u001b[1;33m\u001b[0m\u001b[1;33m\u001b[0m\u001b[0m\n\u001b[0;32m      8\u001b[0m \u001b[0mplt\u001b[0m\u001b[1;33m.\u001b[0m\u001b[0maxis\u001b[0m\u001b[1;33m(\u001b[0m\u001b[1;34m'equal'\u001b[0m\u001b[1;33m)\u001b[0m\u001b[1;33m\u001b[0m\u001b[1;33m\u001b[0m\u001b[0m\n",
      "\u001b[1;31mNameError\u001b[0m: name 'labels' is not defined"
     ]
    }
   ],
   "source": [
    "# pie chart of distribution of pokemon types\n",
    "#take \"primary\" column, create lists to plot\n",
    "types = cleaned_csv[\"primary\"].value_counts(dropna=False).keys().tolist()\n",
    "counts = cleaned_csv[\"primary\"].value_counts(dropna=False).tolist()\n",
    "\n",
    "plt.pie(counts, labels=labels, labeldistance=None)\n",
    "plt.title(\"Pokemon by Type\")\n",
    "plt.axis('equal')\n",
    "plt.savefig(\"Saved_Figures/pie_type\")\n",
    "plt.legend(labels, loc=\"upper right\", bbox_to_anchor=(1.2,1.025))\n",
    "plt.show()\n"
   ]
  },
  {
   "cell_type": "code",
   "execution_count": 4,
   "metadata": {},
   "outputs": [
    {
     "data": {
      "image/png": "[encoded data removed]",
      "text/plain": [
       "<Figure size 432x288 with 1 Axes>"
      ]
     },
     "metadata": {
      "needs_background": "light"
     },
     "output_type": "display_data"
    }
   ],
   "source": [
    "#Capture Rate v Attack Level \n",
    "\n",
    "plt.scatter(cleaned_csv['capture_rate'], cleaned_csv[\"atk\"])\n",
    "plt.title('Capture rate vs. Attack level')\n",
    "plt.xlabel('Capture Rate')\n",
    "plt.ylabel('Attack Level')\n",
    "plt.savefig(\"Saved_Figures/capture_v_attack\")\n",
    "plt.show()"
   ]
  },
  {
   "cell_type": "code",
   "execution_count": 5,
   "metadata": {},
   "outputs": [
    {
     "data": {
      "image/png": "[encoded data removed]",
      "text/plain": [
       "<Figure size 432x288 with 1 Axes>"
      ]
     },
     "metadata": {
      "needs_background": "light"
     },
     "output_type": "display_data"
    }
   ],
   "source": [
    "#Capture Rate v Attack Level with linregress line\n",
    "\n",
    "#lin regress equation\n",
    "x_data= cleaned_csv['capture_rate']\n",
    "y_data= cleaned_csv[\"atk\"]\n",
    "(slope, intercept, rvalue, pvalue, stderr) = linregress(x_data, y_data)\n",
    "regress_values = x_data * slope + intercept\n",
    "line_eq = \"y = \" + str(round(slope,2)) + \"x + \" + str(round(intercept,2))\n",
    "\n",
    "#plotting graph\n",
    "plt.scatter(cleaned_csv['capture_rate'], cleaned_csv[\"atk\"])\n",
    "plt.plot(x_data, regress_values, \"r-\")\n",
    "plt.annotate(line_eq,(.3,220), color='red')\n",
    "plt.title('Capture rate vs. Attack level')\n",
    "plt.xlabel('Capture Rate')\n",
    "plt.ylabel('Attack Level')\n",
    "plt.savefig(\"Saved_Figures/cature_v_attack_linreg\")\n",
    "plt.show()\n"
   ]
  },
  {
   "cell_type": "code",
   "execution_count": 6,
   "metadata": {},
   "outputs": [
    {
     "data": {
      "image/png": "[encoded data removed]",
      "text/plain": [
       "<Figure size 432x288 with 1 Axes>"
      ]
     },
     "metadata": {
      "needs_background": "light"
     },
     "output_type": "display_data"
    }
   ],
   "source": [
    "#Capture Rate v Stamina\n",
    "\n",
    "plt.scatter(cleaned_csv['capture_rate'], cleaned_csv[\"stamina\"])\n",
    "plt.title('Capture rate vs. Stamina')\n",
    "plt.xlabel('Capture Rate')\n",
    "plt.ylabel('Stamina')\n",
    "plt.savefig(\"Saved_Figures/capture_v_stamina\")\n",
    "plt.show()"
   ]
  },
  {
   "cell_type": "code",
   "execution_count": 7,
   "metadata": {},
   "outputs": [
    {
     "data": {
      "image/png": "[encoded data removed]",
      "text/plain": [
       "<Figure size 432x288 with 1 Axes>"
      ]
     },
     "metadata": {
      "needs_background": "light"
     },
     "output_type": "display_data"
    }
   ],
   "source": [
    "#Capture Rate v Stamina with linregress line\n",
    "\n",
    "#lin regress equation\n",
    "x_data2= cleaned_csv['capture_rate']\n",
    "y_data2= cleaned_csv[\"stamina\"]\n",
    "(slope, intercept, rvalue, pvalue, stderr) = linregress(x_data2, y_data2)\n",
    "regress_values = x_data2 * slope + intercept\n",
    "line_eq = \"y = \" + str(round(slope,2)) + \"x + \" + str(round(intercept,2))\n",
    "\n",
    "#plotting graph\n",
    "plt.scatter(cleaned_csv['capture_rate'], cleaned_csv[\"stamina\"])\n",
    "plt.plot(x_data, regress_values, \"r-\")\n",
    "plt.annotate(line_eq,(.3,400), color='red')\n",
    "plt.title('Capture rate vs. Stamina')\n",
    "plt.xlabel('Capture Rate')\n",
    "plt.ylabel('Stamina')\n",
    "plt.savefig(\"Saved_Figures/capture_v_stamina_linreg\")\n",
    "plt.show()\n"
   ]
  },
  {
   "cell_type": "code",
   "execution_count": 8,
   "metadata": {},
   "outputs": [
    {
     "data": {
      "image/png": "[encoded data removed]",
      "text/plain": [
       "<Figure size 432x288 with 1 Axes>"
      ]
     },
     "metadata": {
      "needs_background": "light"
     },
     "output_type": "display_data"
    }
   ],
   "source": [
    "#Capture Rate v Defense\n",
    "\n",
    "plt.scatter(cleaned_csv['capture_rate'], cleaned_csv[\"def\"])\n",
    "plt.title('Capture rate vs. Defense')\n",
    "plt.xlabel('Capture Rate')\n",
    "plt.ylabel('Defense')\n",
    "plt.savefig(\"Saved_Figures/capture_v_defense\")\n",
    "plt.show()"
   ]
  },
  {
   "cell_type": "code",
   "execution_count": 10,
   "metadata": {},
   "outputs": [
    {
     "data": {
      "image/png": "[encoded data removed]",
      "text/plain": [
       "<Figure size 432x288 with 1 Axes>"
      ]
     },
     "metadata": {
      "needs_background": "light"
     },
     "output_type": "display_data"
    }
   ],
   "source": [
    "#Capture Rate v Defense with linregress line\n",
    "\n",
    "#lin regress equation\n",
    "x_data3= cleaned_csv['capture_rate']\n",
    "y_data3= cleaned_csv[\"def\"]\n",
    "(slope, intercept, rvalue, pvalue, stderr) = linregress(x_data3, y_data3)\n",
    "regress_values = x_data3 * slope + intercept\n",
    "line_eq = \"y = \" + str(round(slope,2)) + \"x + \" + str(round(intercept,2))\n",
    "\n",
    "#plotting graph\n",
    "plt.scatter(cleaned_csv['capture_rate'], cleaned_csv[\"def\"])\n",
    "plt.plot(x_data, regress_values, \"r-\")\n",
    "plt.annotate(line_eq,(.3,400), color='red')\n",
    "plt.title('Capture rate vs. Defense')\n",
    "plt.xlabel('Capture Rate')\n",
    "plt.ylabel('Defense')\n",
    "plt.savefig(\"Saved_Figures/capture_v_defense_linreg\")\n",
    "plt.show()\n"
   ]
  },
  {
   "cell_type": "code",
   "execution_count": null,
   "metadata": {},
   "outputs": [],
   "source": []
  }
 ],
 "metadata": {
  "kernelspec": {
   "display_name": "Python [conda env:PythonData] *",
   "language": "python",
   "name": "conda-env-PythonData-py"
  },
  "language_info": {
   "codemirror_mode": {
    "name": "ipython",
    "version": 3
   },
   "file_extension": ".py",
   "mimetype": "text/x-python",
   "name": "python",
   "nbconvert_exporter": "python",
   "pygments_lexer": "ipython3",
   "version": "3.6.10"
  }
 },
 "nbformat": 4,
 "nbformat_minor": 5
}
