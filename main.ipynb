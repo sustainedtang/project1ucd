{
 "cells": [
  {
   "cell_type": "code",
   "execution_count": null,
   "id": "cultural-indonesia",
   "metadata": {},
   "outputs": [],
   "source": [
    "%matplotlib inline\n",
    "# Dependencies and Setup\n",
    "import matplotlib.pyplot as plt\n",
    "import pandas as pd\n",
    "import numpy as np\n",
    "import scipy.stats as st \n",
    "from scipy.stats import linregress\n",
    "import gmaps\n",
    "\n",
    "#Import API key\n",
    "from config import g_key\n"
   ]
  },
  {
   "cell_type": "code",
   "execution_count": null,
   "metadata": {},
   "outputs": [],
   "source": [
    "#Save from CSVs\n",
    "pk_go_csv = pd.read_csv(\"Resources/pkmn-go.csv\")\n",
    "poke_spawns = pd.read_csv(\"Resources/pokemon-spawns.csv\")\n",
    "\n",
    "merged_csv = pd.merge(pk_go_csv, poke_spawns, on=\"name\")\n",
    "merged_csv.head(None)\n",
    "#Drop Unncessary Columns and Exact Duplicates\n",
    "cleaned_csv = merged_csv.drop_duplicates()\n",
    "cleaned_csv = cleaned_csv[['name', 'stamina', 'atk', 'def', 'capture_rate', 'spawn_chance', 'primary', 'cp', 'lat', 'lng']]\n",
    "#Counts of Pokemon by Type\n",
    "print(cleaned_csv.primary.value_counts())\n",
    "cleaned_csv.reset_index(drop=True).head(None)\n",
    "\n",
    "\n"
   ]
  },
  {
   "cell_type": "code",
   "execution_count": null,
   "metadata": {},
   "outputs": [],
   "source": [
    "#Breakdown of Counts by Species and Primary Type\n",
    "poketype_df = cleaned_csv.groupby('primary')\n",
    "poketype_df = pd.DataFrame(poketype_df['name'].value_counts())\n",
    "\n",
    "poketype_df.head(50)"
   ]
  },
  {
   "cell_type": "code",
   "execution_count": null,
   "metadata": {},
   "outputs": [],
   "source": [
    "# pie chart of distribution of pokemon types\n",
    "#take \"primary\" column, create lists to plot\n",
    "types = cleaned_csv[\"primary\"].value_counts(dropna=False).keys().tolist()\n",
    "counts = cleaned_csv[\"primary\"].value_counts(dropna=False).tolist()\n",
    "\n",
    "plt.pie(counts, labels=types, labeldistance=None)\n",
    "plt.title(\"Pokemon by Type\")\n",
    "plt.axis('equal')\n",
    "plt.savefig(\"Saved_Figures/pie_type\")\n",
    "plt.legend(types, loc=\"upper right\", bbox_to_anchor=(1.2,1.025))\n",
    "plt.show()"
   ]
  },
  {
   "source": [
    "### Does attack level have a correlation to capture rate?"
   ],
   "cell_type": "markdown",
   "metadata": {}
  },
  {
   "cell_type": "code",
   "execution_count": null,
   "metadata": {},
   "outputs": [],
   "source": [
    "#Capture Rate v Attack Level \n",
    "fig, ax = plt.subplots()\n",
    "\n",
    "ax.scatter(cleaned_csv['capture_rate'], cleaned_csv[\"atk\"])\n",
    "plt.title('Capture rate vs. Attack level')\n",
    "plt.xlabel('Capture Rate')\n",
    "plt.ylabel('Attack Level')\n",
    "plt.savefig(\"Saved_Figures/capture_v_attack\")\n",
    "plt.show()"
   ]
  },
  {
   "source": [
    "## Linregress for Capture Rate vs Attack Level"
   ],
   "cell_type": "markdown",
   "metadata": {}
  },
  {
   "cell_type": "code",
   "execution_count": null,
   "metadata": {},
   "outputs": [],
   "source": [
    "#Capture Rate v Attack Level with linregress line\n",
    "\n",
    "#lin regress equation\n",
    "x_data= cleaned_csv['capture_rate']\n",
    "y_data= cleaned_csv[\"atk\"]\n",
    "(slope, intercept, rvalue, pvalue, stderr) = linregress(x_data, y_data)\n",
    "regress_values = x_data * slope + intercept\n",
    "line_eq = \"y = \" + str(round(slope,2)) + \"x + \" + str(round(intercept,2))\n",
    "\n",
    "#plotting graph\n",
    "plt.scatter(cleaned_csv['capture_rate'], cleaned_csv[\"atk\"])\n",
    "plt.plot(x_data, regress_values, \"r-\")\n",
    "plt.annotate(line_eq,(.3,220), color='red')\n",
    "plt.title('Capture rate vs. Attack level')\n",
    "plt.xlabel('Capture Rate')\n",
    "plt.ylabel('Attack Level')\n",
    "plt.savefig(\"Saved_Figures/cature_v_attack_linreg\")\n",
    "print(f'The rvalue is: {rvalue}')\n",
    "plt.show()\n"
   ]
  },
  {
   "source": [
    "## Does capture rate have a correlation with Stamina levels?"
   ],
   "cell_type": "markdown",
   "metadata": {}
  },
  {
   "cell_type": "code",
   "execution_count": null,
   "metadata": {},
   "outputs": [],
   "source": [
    "#Capture Rate v Stamina\n",
    "\n",
    "plt.scatter(cleaned_csv['capture_rate'], cleaned_csv[\"stamina\"])\n",
    "plt.title('Capture rate vs. Stamina')\n",
    "plt.xlabel('Capture Rate')\n",
    "plt.ylabel('Stamina')\n",
    "plt.savefig(\"Saved_Figures/capture_v_stamina\")\n",
    "plt.show()"
   ]
  },
  {
   "cell_type": "code",
   "execution_count": null,
   "metadata": {},
   "outputs": [],
   "source": [
    "#Capture Rate v Stamina with linregress line\n",
    "\n",
    "#lin regress equation\n",
    "x_data2= cleaned_csv['capture_rate']\n",
    "y_data2= cleaned_csv[\"stamina\"]\n",
    "(slope, intercept, rvalue, pvalue, stderr) = linregress(x_data2, y_data2)\n",
    "regress_values = x_data2 * slope + intercept\n",
    "line_eq = \"y = \" + str(round(slope,2)) + \"x + \" + str(round(intercept,2))\n",
    "\n",
    "#plotting graph\n",
    "plt.scatter(cleaned_csv['capture_rate'], cleaned_csv[\"stamina\"])\n",
    "plt.plot(x_data, regress_values, \"r-\")\n",
    "plt.annotate(line_eq,(.3,400), color='red')\n",
    "plt.title('Capture rate vs. Stamina')\n",
    "plt.xlabel('Capture Rate')\n",
    "plt.ylabel('Stamina')\n",
    "plt.savefig(\"Saved_Figures/capture_v_stamina_linreg\")\n",
    "print(f'The rvalue is: {rvalue}')\n",
    "plt.show()"
   ]
  },
  {
   "cell_type": "code",
   "execution_count": null,
   "metadata": {},
   "outputs": [],
   "source": [
    "#Capture Rate v Defense\n",
    "\n",
    "plt.scatter(cleaned_csv['capture_rate'], cleaned_csv[\"def\"])\n",
    "plt.title('Capture rate vs. Defense')\n",
    "plt.xlabel('Capture Rate')\n",
    "plt.ylabel('Defense')\n",
    "plt.savefig(\"Saved_Figures/capture_v_defense\")\n",
    "plt.show()"
   ]
  },
  {
   "cell_type": "code",
   "execution_count": null,
   "metadata": {},
   "outputs": [],
   "source": [
    "#Capture Rate v Defense with linregress line\n",
    "\n",
    "#lin regress equation\n",
    "x_data3= cleaned_csv['capture_rate']\n",
    "y_data3= cleaned_csv[\"def\"]\n",
    "(slope, intercept, rvalue, pvalue, stderr) = linregress(x_data3, y_data3)\n",
    "regress_values = x_data3 * slope + intercept\n",
    "line_eq = \"y = \" + str(round(slope,2)) + \"x + \" + str(round(intercept,2))\n",
    "\n",
    "#plotting graph\n",
    "plt.scatter(cleaned_csv['capture_rate'], cleaned_csv[\"def\"])\n",
    "plt.plot(x_data, regress_values, \"r-\")\n",
    "plt.annotate(line_eq,(.3,200), color='red')\n",
    "plt.title('Capture rate vs. Defense')\n",
    "plt.xlabel('Capture Rate')\n",
    "plt.ylabel('Defense')\n",
    "plt.savefig(\"Saved_Figures/capture_v_defense_linreg\")\n",
    "print(f'The rvalue is: {rvalue}')\n",
    "plt.show()\n"
   ]
  },
  {
   "cell_type": "code",
   "execution_count": null,
   "metadata": {},
   "outputs": [],
   "source": [
    "poketype = cleaned_csv.groupby('primary')\n",
    "avg_spawn_chance = poketype['spawn_chance'].mean()\n",
    "avg_cp = poketype['cp'].mean()\n",
    "avg_capture = poketype['capture_rate'].mean()\n",
    "#spawn_df = spawn_chance.rename_axis('Primary').to_frame('Average Spawn Chance')\n",
    "#spawn_df.sort_values(by='Average Spawn Chance', ascending = False)\n",
    "avg_table = pd.DataFrame({\n",
    "    \"Average CP\": avg_cp,\n",
    "    \"Average Spawn Chance\": avg_spawn_chance,\n",
    "    \"Average Capture Rate\": avg_capture,\n",
    "    \n",
    "})\n",
    "\n",
    "print(\"Summary of Average Capture Related Stats\")\n",
    "avg_table"
   ]
  },
  {
   "cell_type": "code",
   "execution_count": null,
   "metadata": {},
   "outputs": [],
   "source": [
    "#Bar Graph of Average CP\n",
    "avg_table['Average CP'].plot(kind='bar', figsize=(10,7))\n",
    "plt.title(\"Average CP by Type\")\n",
    "plt.xlabel(\"Primary Pokemon Type\")\n",
    "plt.ylabel(\"Combat Power\")\n",
    "plt.show()"
   ]
  },
  {
   "cell_type": "code",
   "execution_count": null,
   "metadata": {},
   "outputs": [],
   "source": [
    "#Bar Graph of Average Spawn Chance\n",
    "avg_table['Average Spawn Chance'].plot(kind='bar', figsize=(10,7))\n",
    "plt.title(\"Average Spawn Chance by Type\")\n",
    "plt.xlabel(\"Primary Pokemon Type\")\n",
    "plt.ylabel(\"Spawn Chance\")\n",
    "plt.show()"
   ]
  },
  {
   "cell_type": "code",
   "execution_count": null,
   "metadata": {},
   "outputs": [],
   "source": [
    "#Bar Graph of Average Capture Rate\n",
    "avg_table['Average Capture Rate'].plot(kind='bar', figsize=(10,7))\n",
    "plt.title(\"Average Capture Rate by Type\")\n",
    "plt.xlabel(\"Primary Pokemon Type\")\n",
    "plt.ylabel(\"Capture Rate\")\n",
    "plt.show()\n"
   ]
  },
  {
   "source": [
    "## Use gmaps to visualize relationship between geographical features and pokemon spawn locations, saving map images to folder, and transfer to powerpoint"
   ],
   "cell_type": "markdown",
   "metadata": {}
  },
  {
   "cell_type": "code",
   "execution_count": null,
   "metadata": {},
   "outputs": [],
   "source": [
    "\n",
    "\n",
    "#Access maps with API key\n",
    "gmaps.configure(api_key=g_key)\n",
    "\n",
    "#Ask for user input to search map by Pokemon Type for heatmap visualization\n",
    "query = str(input(\"Enter Pokemon Type\"))\n",
    "highest_avg_cp = cleaned_csv[cleaned_csv['primary'] == query]\n",
    "locations = highest_avg_cp[[\"lat\", \"lng\"]]\n",
    "cp = highest_avg_cp[\"cp\"].astype(float)\n",
    "# Using the template add marks to the heatmap\n",
    "info_box_template = \"\"\"\n",
    "<dl>\n",
    "<dt>Name</dt><dd>{name}</dd>\n",
    "<dt>CP</dt><dd>{cp}</dd>\n",
    "</dl>\n",
    "\"\"\"\n",
    "# Store the DataFrame Row\n",
    "# NOTE: be sure to update with your DataFrame name\n",
    "poke_info = [info_box_template.format(**row) for index, row in highest_avg_cp.iterrows()]\n",
    "\n",
    "#Plot Heatmap\n",
    "fig = gmaps.figure()\n",
    "#Add markers\n",
    "markers = gmaps.marker_layer(locations, info_box_content=poke_info)\n",
    "fig.add_layer(markers)\n",
    "#Create Heatlayer\n",
    "heat_layer = gmaps.heatmap_layer(locations, cp, dissipating=False, point_radius=1)\n",
    "\n",
    "#Add layer\n",
    "fig.add_layer(heat_layer)\n",
    "\n",
    "fig"
   ]
  }
 ],
 "metadata": {
  "kernelspec": {
   "name": "python3610jvsc74a57bd0b432461d0a0115d0c9d901da8da6cafa7da0264c25770543bb182d5a47b20b85",
   "display_name": "Python 3.6.10 64-bit ('PythonData': conda)"
  },
  "language_info": {
   "codemirror_mode": {
    "name": "ipython",
    "version": 3
   },
   "file_extension": ".py",
   "mimetype": "text/x-python",
   "name": "python",
   "nbconvert_exporter": "python",
   "pygments_lexer": "ipython3",
   "version": "3.6.10"
  }
 },
 "nbformat": 4,
 "nbformat_minor": 5
}