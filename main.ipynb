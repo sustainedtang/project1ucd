{
 "cells": [
  {
   "cell_type": "code",
   "execution_count": 1,
   "id": "cultural-indonesia",
   "metadata": {},
   "outputs": [],
   "source": [
    "%matplotlib inline\n",
    "# Dependencies and Setup\n",
    "import matplotlib.pyplot as plt\n",
    "import pandas as pd\n",
    "import numpy as np\n",
    "import scipy.stats as st \n",
    "from scipy.stats import linregress\n",
    "\n",
    "#Import API key\n",
    "#from config import api_key"
   ]
  },
  {
   "cell_type": "code",
   "execution_count": 13,
   "metadata": {},
   "outputs": [
    {
     "output_type": "execute_result",
     "data": {
      "text/plain": [
       "             name  stamina  atk  def  capture_rate  flee_rate  spawn_chance  \\\n",
       "0       Bulbasaur       90  126  126          0.16       0.10          69.0   \n",
       "1       Bulbasaur       90  126  126          0.16       0.10          69.0   \n",
       "2       Bulbasaur       90  126  126          0.16       0.10          69.0   \n",
       "3       Bulbasaur       90  126  126          0.16       0.10          69.0   \n",
       "4       Bulbasaur       90  126  126          0.16       0.10          69.0   \n",
       "...           ...      ...  ...  ...           ...        ...           ...   \n",
       "303774  Dragonair      122  170  152          0.08       0.06           2.0   \n",
       "303775  Dragonair      122  170  152          0.08       0.06           2.0   \n",
       "303776  Dragonair      122  170  152          0.08       0.06           2.0   \n",
       "303777  Dragonair      122  170  152          0.08       0.06           2.0   \n",
       "303778  Dragonair      122  170  152          0.08       0.06           2.0   \n",
       "\n",
       "       primary secondary    cp  \\\n",
       "0        Grass    Poison  1079   \n",
       "1        Grass    Poison  1079   \n",
       "2        Grass    Poison  1079   \n",
       "3        Grass    Poison  1079   \n",
       "4        Grass    Poison  1079   \n",
       "...        ...       ...   ...   \n",
       "303774  Dragon       NaN  1760   \n",
       "303775  Dragon       NaN  1760   \n",
       "303776  Dragon       NaN  1760   \n",
       "303777  Dragon       NaN  1760   \n",
       "303778  Dragon       NaN  1760   \n",
       "\n",
       "                                                      url  \\\n",
       "0       http://cdn.bulbagarden.net/upload/thumb/2/21/0...   \n",
       "1       http://cdn.bulbagarden.net/upload/thumb/2/21/0...   \n",
       "2       http://cdn.bulbagarden.net/upload/thumb/2/21/0...   \n",
       "3       http://cdn.bulbagarden.net/upload/thumb/2/21/0...   \n",
       "4       http://cdn.bulbagarden.net/upload/thumb/2/21/0...   \n",
       "...                                                   ...   \n",
       "303774  http://cdn.bulbagarden.net/upload/thumb/9/93/1...   \n",
       "303775  http://cdn.bulbagarden.net/upload/thumb/9/93/1...   \n",
       "303776  http://cdn.bulbagarden.net/upload/thumb/9/93/1...   \n",
       "303777  http://cdn.bulbagarden.net/upload/thumb/9/93/1...   \n",
       "303778  http://cdn.bulbagarden.net/upload/thumb/9/93/1...   \n",
       "\n",
       "                      s2_id     s2_token  num        lat         lng  \\\n",
       "0      -9182898735737209000  808fca40de3    1  37.352721 -121.965752   \n",
       "1      -9182927600064922000  808fb000163    1  37.386986 -122.173674   \n",
       "2      -9182910327853941000  808fbfb5ca1    1  37.562587 -122.033978   \n",
       "3      -9182956200252146000  808f95fd6c5    1  37.577153 -122.082546   \n",
       "4      -9182984574953587000  808f7c2eb87    1  37.717652 -122.453226   \n",
       "...                     ...          ...  ...        ...         ...   \n",
       "303774 -9185790380451299000  8085845142b  148  37.860065 -122.485598   \n",
       "303775 -9185794164317487000  808580e0793  148  37.806800 -122.423853   \n",
       "303776 -9185794164317487000  808580e0793  148  37.806800 -122.423853   \n",
       "303777 -9185794164317487000  808580e0793  148  37.806800 -122.423853   \n",
       "303778 -9185794164317487000  808580e0793  148  37.806800 -122.423853   \n",
       "\n",
       "         encounter_ms    disppear_ms  \n",
       "0       1469520961740  1469520283284  \n",
       "1                  -1  1469520478385  \n",
       "2       1469522340772  1469521691605  \n",
       "3       1469522541812  1469521693152  \n",
       "4       1469522434748  1469521960685  \n",
       "...               ...            ...  \n",
       "303774  1469558403276  1469557938645  \n",
       "303775  1469570699180  1469570176378  \n",
       "303776  1469570699180  1469570176379  \n",
       "303777  1469570699180  1469570176509  \n",
       "303778  1469570699180  1469570176509  \n",
       "\n",
       "[303779 rows x 18 columns]"
      ],
      "text/html": "<div>\n<style scoped>\n    .dataframe tbody tr th:only-of-type {\n        vertical-align: middle;\n    }\n\n    .dataframe tbody tr th {\n        vertical-align: top;\n    }\n\n    .dataframe thead th {\n        text-align: right;\n    }\n</style>\n<table border=\"1\" class=\"dataframe\">\n  <thead>\n    <tr style=\"text-align: right;\">\n      <th></th>\n      <th>name</th>\n      <th>stamina</th>\n      <th>atk</th>\n      <th>def</th>\n      <th>capture_rate</th>\n      <th>flee_rate</th>\n      <th>spawn_chance</th>\n      <th>primary</th>\n      <th>secondary</th>\n      <th>cp</th>\n      <th>url</th>\n      <th>s2_id</th>\n      <th>s2_token</th>\n      <th>num</th>\n      <th>lat</th>\n      <th>lng</th>\n      <th>encounter_ms</th>\n      <th>disppear_ms</th>\n    </tr>\n  </thead>\n  <tbody>\n    <tr>\n      <th>0</th>\n      <td>Bulbasaur</td>\n      <td>90</td>\n      <td>126</td>\n      <td>126</td>\n      <td>0.16</td>\n      <td>0.10</td>\n      <td>69.0</td>\n      <td>Grass</td>\n      <td>Poison</td>\n      <td>1079</td>\n      <td>http://cdn.bulbagarden.net/upload/thumb/2/21/0...</td>\n      <td>-9182898735737209000</td>\n      <td>808fca40de3</td>\n      <td>1</td>\n      <td>37.352721</td>\n      <td>-121.965752</td>\n      <td>1469520961740</td>\n      <td>1469520283284</td>\n    </tr>\n    <tr>\n      <th>1</th>\n      <td>Bulbasaur</td>\n      <td>90</td>\n      <td>126</td>\n      <td>126</td>\n      <td>0.16</td>\n      <td>0.10</td>\n      <td>69.0</td>\n      <td>Grass</td>\n      <td>Poison</td>\n      <td>1079</td>\n      <td>http://cdn.bulbagarden.net/upload/thumb/2/21/0...</td>\n      <td>-9182927600064922000</td>\n      <td>808fb000163</td>\n      <td>1</td>\n      <td>37.386986</td>\n      <td>-122.173674</td>\n      <td>-1</td>\n      <td>1469520478385</td>\n    </tr>\n    <tr>\n      <th>2</th>\n      <td>Bulbasaur</td>\n      <td>90</td>\n      <td>126</td>\n      <td>126</td>\n      <td>0.16</td>\n      <td>0.10</td>\n      <td>69.0</td>\n      <td>Grass</td>\n      <td>Poison</td>\n      <td>1079</td>\n      <td>http://cdn.bulbagarden.net/upload/thumb/2/21/0...</td>\n      <td>-9182910327853941000</td>\n      <td>808fbfb5ca1</td>\n      <td>1</td>\n      <td>37.562587</td>\n      <td>-122.033978</td>\n      <td>1469522340772</td>\n      <td>1469521691605</td>\n    </tr>\n    <tr>\n      <th>3</th>\n      <td>Bulbasaur</td>\n      <td>90</td>\n      <td>126</td>\n      <td>126</td>\n      <td>0.16</td>\n      <td>0.10</td>\n      <td>69.0</td>\n      <td>Grass</td>\n      <td>Poison</td>\n      <td>1079</td>\n      <td>http://cdn.bulbagarden.net/upload/thumb/2/21/0...</td>\n      <td>-9182956200252146000</td>\n      <td>808f95fd6c5</td>\n      <td>1</td>\n      <td>37.577153</td>\n      <td>-122.082546</td>\n      <td>1469522541812</td>\n      <td>1469521693152</td>\n    </tr>\n    <tr>\n      <th>4</th>\n      <td>Bulbasaur</td>\n      <td>90</td>\n      <td>126</td>\n      <td>126</td>\n      <td>0.16</td>\n      <td>0.10</td>\n      <td>69.0</td>\n      <td>Grass</td>\n      <td>Poison</td>\n      <td>1079</td>\n      <td>http://cdn.bulbagarden.net/upload/thumb/2/21/0...</td>\n      <td>-9182984574953587000</td>\n      <td>808f7c2eb87</td>\n      <td>1</td>\n      <td>37.717652</td>\n      <td>-122.453226</td>\n      <td>1469522434748</td>\n      <td>1469521960685</td>\n    </tr>\n    <tr>\n      <th>...</th>\n      <td>...</td>\n      <td>...</td>\n      <td>...</td>\n      <td>...</td>\n      <td>...</td>\n      <td>...</td>\n      <td>...</td>\n      <td>...</td>\n      <td>...</td>\n      <td>...</td>\n      <td>...</td>\n      <td>...</td>\n      <td>...</td>\n      <td>...</td>\n      <td>...</td>\n      <td>...</td>\n      <td>...</td>\n      <td>...</td>\n    </tr>\n    <tr>\n      <th>303774</th>\n      <td>Dragonair</td>\n      <td>122</td>\n      <td>170</td>\n      <td>152</td>\n      <td>0.08</td>\n      <td>0.06</td>\n      <td>2.0</td>\n      <td>Dragon</td>\n      <td>NaN</td>\n      <td>1760</td>\n      <td>http://cdn.bulbagarden.net/upload/thumb/9/93/1...</td>\n      <td>-9185790380451299000</td>\n      <td>8085845142b</td>\n      <td>148</td>\n      <td>37.860065</td>\n      <td>-122.485598</td>\n      <td>1469558403276</td>\n      <td>1469557938645</td>\n    </tr>\n    <tr>\n      <th>303775</th>\n      <td>Dragonair</td>\n      <td>122</td>\n      <td>170</td>\n      <td>152</td>\n      <td>0.08</td>\n      <td>0.06</td>\n      <td>2.0</td>\n      <td>Dragon</td>\n      <td>NaN</td>\n      <td>1760</td>\n      <td>http://cdn.bulbagarden.net/upload/thumb/9/93/1...</td>\n      <td>-9185794164317487000</td>\n      <td>808580e0793</td>\n      <td>148</td>\n      <td>37.806800</td>\n      <td>-122.423853</td>\n      <td>1469570699180</td>\n      <td>1469570176378</td>\n    </tr>\n    <tr>\n      <th>303776</th>\n      <td>Dragonair</td>\n      <td>122</td>\n      <td>170</td>\n      <td>152</td>\n      <td>0.08</td>\n      <td>0.06</td>\n      <td>2.0</td>\n      <td>Dragon</td>\n      <td>NaN</td>\n      <td>1760</td>\n      <td>http://cdn.bulbagarden.net/upload/thumb/9/93/1...</td>\n      <td>-9185794164317487000</td>\n      <td>808580e0793</td>\n      <td>148</td>\n      <td>37.806800</td>\n      <td>-122.423853</td>\n      <td>1469570699180</td>\n      <td>1469570176379</td>\n    </tr>\n    <tr>\n      <th>303777</th>\n      <td>Dragonair</td>\n      <td>122</td>\n      <td>170</td>\n      <td>152</td>\n      <td>0.08</td>\n      <td>0.06</td>\n      <td>2.0</td>\n      <td>Dragon</td>\n      <td>NaN</td>\n      <td>1760</td>\n      <td>http://cdn.bulbagarden.net/upload/thumb/9/93/1...</td>\n      <td>-9185794164317487000</td>\n      <td>808580e0793</td>\n      <td>148</td>\n      <td>37.806800</td>\n      <td>-122.423853</td>\n      <td>1469570699180</td>\n      <td>1469570176509</td>\n    </tr>\n    <tr>\n      <th>303778</th>\n      <td>Dragonair</td>\n      <td>122</td>\n      <td>170</td>\n      <td>152</td>\n      <td>0.08</td>\n      <td>0.06</td>\n      <td>2.0</td>\n      <td>Dragon</td>\n      <td>NaN</td>\n      <td>1760</td>\n      <td>http://cdn.bulbagarden.net/upload/thumb/9/93/1...</td>\n      <td>-9185794164317487000</td>\n      <td>808580e0793</td>\n      <td>148</td>\n      <td>37.806800</td>\n      <td>-122.423853</td>\n      <td>1469570699180</td>\n      <td>1469570176509</td>\n    </tr>\n  </tbody>\n</table>\n<p>303779 rows × 18 columns</p>\n</div>"
     },
     "metadata": {},
     "execution_count": 13
    }
   ],
   "source": [
    "#Save from CSVs\n",
    "pk_go_csv = pd.read_csv(\"Resources/pkmn-go.csv\")\n",
    "poke_spawns = pd.read_csv(\"Resources/pokemon-spawns.csv\")\n",
    "\n",
    "merged_csv = pd.merge(pk_go_csv, poke_spawns, on=\"name\")\n",
    "merged_csv.head(None)"
   ]
  },
  {
   "cell_type": "code",
   "execution_count": null,
   "metadata": {},
   "outputs": [],
   "source": []
  }
 ],
 "metadata": {
  "kernelspec": {
   "name": "python3610jvsc74a57bd0b432461d0a0115d0c9d901da8da6cafa7da0264c25770543bb182d5a47b20b85",
   "display_name": "Python 3.6.10 64-bit ('PythonData': conda)"
  },
  "language_info": {
   "codemirror_mode": {
    "name": "ipython",
    "version": 3
   },
   "file_extension": ".py",
   "mimetype": "text/x-python",
   "name": "python",
   "nbconvert_exporter": "python",
   "pygments_lexer": "ipython3",
   "version": "3.6.10"
  }
 },
 "nbformat": 4,
 "nbformat_minor": 5
}