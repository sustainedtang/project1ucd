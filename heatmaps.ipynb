{
 "metadata": {
  "language_info": {
   "codemirror_mode": {
    "name": "ipython",
    "version": 3
   },
   "file_extension": ".py",
   "mimetype": "text/x-python",
   "name": "python",
   "nbconvert_exporter": "python",
   "pygments_lexer": "ipython3",
   "version": "3.6.10"
  },
  "orig_nbformat": 2,
  "kernelspec": {
   "name": "python3610jvsc74a57bd0b432461d0a0115d0c9d901da8da6cafa7da0264c25770543bb182d5a47b20b85",
   "display_name": "Python 3.6.10 64-bit ('PythonData': conda)"
  }
 },
 "nbformat": 4,
 "nbformat_minor": 2,
 "cells": [
  {
   "cell_type": "code",
   "execution_count": 4,
   "metadata": {},
   "outputs": [],
   "source": [
    "%matplotlib inline\n",
    "# Dependencies and Setup\n",
    "import matplotlib.pyplot as plt\n",
    "import pandas as pd\n",
    "import numpy as np\n",
    "import scipy.stats as st \n",
    "from scipy.stats import linregress\n",
    "import gmaps\n",
    "\n",
    "#Import API key\n",
    "from config import g_key\n"
   ]
  },
  {
   "cell_type": "code",
   "execution_count": 11,
   "metadata": {},
   "outputs": [
    {
     "output_type": "execute_result",
     "data": {
      "text/plain": [
       "             name  stamina  atk  def  capture_rate  flee_rate  spawn_chance  \\\n",
       "0       Bulbasaur       90  126  126          0.16       0.10          69.0   \n",
       "1       Bulbasaur       90  126  126          0.16       0.10          69.0   \n",
       "2       Bulbasaur       90  126  126          0.16       0.10          69.0   \n",
       "3       Bulbasaur       90  126  126          0.16       0.10          69.0   \n",
       "4       Bulbasaur       90  126  126          0.16       0.10          69.0   \n",
       "...           ...      ...  ...  ...           ...        ...           ...   \n",
       "281143  Dragonair      122  170  152          0.08       0.06           2.0   \n",
       "281144  Dragonair      122  170  152          0.08       0.06           2.0   \n",
       "281145  Dragonair      122  170  152          0.08       0.06           2.0   \n",
       "281146  Dragonair      122  170  152          0.08       0.06           2.0   \n",
       "281147  Dragonair      122  170  152          0.08       0.06           2.0   \n",
       "\n",
       "       primary secondary    cp  \\\n",
       "0        Grass    Poison  1079   \n",
       "1        Grass    Poison  1079   \n",
       "2        Grass    Poison  1079   \n",
       "3        Grass    Poison  1079   \n",
       "4        Grass    Poison  1079   \n",
       "...        ...       ...   ...   \n",
       "281143  Dragon       NaN  1760   \n",
       "281144  Dragon       NaN  1760   \n",
       "281145  Dragon       NaN  1760   \n",
       "281146  Dragon       NaN  1760   \n",
       "281147  Dragon       NaN  1760   \n",
       "\n",
       "                                                      url  \\\n",
       "0       http://cdn.bulbagarden.net/upload/thumb/2/21/0...   \n",
       "1       http://cdn.bulbagarden.net/upload/thumb/2/21/0...   \n",
       "2       http://cdn.bulbagarden.net/upload/thumb/2/21/0...   \n",
       "3       http://cdn.bulbagarden.net/upload/thumb/2/21/0...   \n",
       "4       http://cdn.bulbagarden.net/upload/thumb/2/21/0...   \n",
       "...                                                   ...   \n",
       "281143  http://cdn.bulbagarden.net/upload/thumb/9/93/1...   \n",
       "281144  http://cdn.bulbagarden.net/upload/thumb/9/93/1...   \n",
       "281145  http://cdn.bulbagarden.net/upload/thumb/9/93/1...   \n",
       "281146  http://cdn.bulbagarden.net/upload/thumb/9/93/1...   \n",
       "281147  http://cdn.bulbagarden.net/upload/thumb/9/93/1...   \n",
       "\n",
       "                      s2_id     s2_token  num        lat         lng  \\\n",
       "0      -9182898735737209000  808fca40de3    1  37.352721 -121.965752   \n",
       "1      -9182927600064922000  808fb000163    1  37.386986 -122.173674   \n",
       "2      -9182910327853941000  808fbfb5ca1    1  37.562587 -122.033978   \n",
       "3      -9182956200252146000  808f95fd6c5    1  37.577153 -122.082546   \n",
       "4      -9182984574953587000  808f7c2eb87    1  37.717652 -122.453226   \n",
       "...                     ...          ...  ...        ...         ...   \n",
       "281143 -9185790380451299000  8085845142b  148  37.860065 -122.485598   \n",
       "281144 -9185790380451299000  8085845142b  148  37.860065 -122.485598   \n",
       "281145 -9185794164317487000  808580e0793  148  37.806800 -122.423853   \n",
       "281146 -9185794164317487000  808580e0793  148  37.806800 -122.423853   \n",
       "281147 -9185794164317487000  808580e0793  148  37.806800 -122.423853   \n",
       "\n",
       "         encounter_ms    disppear_ms  \n",
       "0       1469520961740  1469520283284  \n",
       "1                  -1  1469520478385  \n",
       "2       1469522340772  1469521691605  \n",
       "3       1469522541812  1469521693152  \n",
       "4       1469522434748  1469521960685  \n",
       "...               ...            ...  \n",
       "281143  1469558403276  1469557938584  \n",
       "281144  1469558403276  1469557938645  \n",
       "281145  1469570699180  1469570176378  \n",
       "281146  1469570699180  1469570176379  \n",
       "281147  1469570699180  1469570176509  \n",
       "\n",
       "[281148 rows x 18 columns]"
      ],
      "text/html": "<div>\n<style scoped>\n    .dataframe tbody tr th:only-of-type {\n        vertical-align: middle;\n    }\n\n    .dataframe tbody tr th {\n        vertical-align: top;\n    }\n\n    .dataframe thead th {\n        text-align: right;\n    }\n</style>\n<table border=\"1\" class=\"dataframe\">\n  <thead>\n    <tr style=\"text-align: right;\">\n      <th></th>\n      <th>name</th>\n      <th>stamina</th>\n      <th>atk</th>\n      <th>def</th>\n      <th>capture_rate</th>\n      <th>flee_rate</th>\n      <th>spawn_chance</th>\n      <th>primary</th>\n      <th>secondary</th>\n      <th>cp</th>\n      <th>url</th>\n      <th>s2_id</th>\n      <th>s2_token</th>\n      <th>num</th>\n      <th>lat</th>\n      <th>lng</th>\n      <th>encounter_ms</th>\n      <th>disppear_ms</th>\n    </tr>\n  </thead>\n  <tbody>\n    <tr>\n      <th>0</th>\n      <td>Bulbasaur</td>\n      <td>90</td>\n      <td>126</td>\n      <td>126</td>\n      <td>0.16</td>\n      <td>0.10</td>\n      <td>69.0</td>\n      <td>Grass</td>\n      <td>Poison</td>\n      <td>1079</td>\n      <td>http://cdn.bulbagarden.net/upload/thumb/2/21/0...</td>\n      <td>-9182898735737209000</td>\n      <td>808fca40de3</td>\n      <td>1</td>\n      <td>37.352721</td>\n      <td>-121.965752</td>\n      <td>1469520961740</td>\n      <td>1469520283284</td>\n    </tr>\n    <tr>\n      <th>1</th>\n      <td>Bulbasaur</td>\n      <td>90</td>\n      <td>126</td>\n      <td>126</td>\n      <td>0.16</td>\n      <td>0.10</td>\n      <td>69.0</td>\n      <td>Grass</td>\n      <td>Poison</td>\n      <td>1079</td>\n      <td>http://cdn.bulbagarden.net/upload/thumb/2/21/0...</td>\n      <td>-9182927600064922000</td>\n      <td>808fb000163</td>\n      <td>1</td>\n      <td>37.386986</td>\n      <td>-122.173674</td>\n      <td>-1</td>\n      <td>1469520478385</td>\n    </tr>\n    <tr>\n      <th>2</th>\n      <td>Bulbasaur</td>\n      <td>90</td>\n      <td>126</td>\n      <td>126</td>\n      <td>0.16</td>\n      <td>0.10</td>\n      <td>69.0</td>\n      <td>Grass</td>\n      <td>Poison</td>\n      <td>1079</td>\n      <td>http://cdn.bulbagarden.net/upload/thumb/2/21/0...</td>\n      <td>-9182910327853941000</td>\n      <td>808fbfb5ca1</td>\n      <td>1</td>\n      <td>37.562587</td>\n      <td>-122.033978</td>\n      <td>1469522340772</td>\n      <td>1469521691605</td>\n    </tr>\n    <tr>\n      <th>3</th>\n      <td>Bulbasaur</td>\n      <td>90</td>\n      <td>126</td>\n      <td>126</td>\n      <td>0.16</td>\n      <td>0.10</td>\n      <td>69.0</td>\n      <td>Grass</td>\n      <td>Poison</td>\n      <td>1079</td>\n      <td>http://cdn.bulbagarden.net/upload/thumb/2/21/0...</td>\n      <td>-9182956200252146000</td>\n      <td>808f95fd6c5</td>\n      <td>1</td>\n      <td>37.577153</td>\n      <td>-122.082546</td>\n      <td>1469522541812</td>\n      <td>1469521693152</td>\n    </tr>\n    <tr>\n      <th>4</th>\n      <td>Bulbasaur</td>\n      <td>90</td>\n      <td>126</td>\n      <td>126</td>\n      <td>0.16</td>\n      <td>0.10</td>\n      <td>69.0</td>\n      <td>Grass</td>\n      <td>Poison</td>\n      <td>1079</td>\n      <td>http://cdn.bulbagarden.net/upload/thumb/2/21/0...</td>\n      <td>-9182984574953587000</td>\n      <td>808f7c2eb87</td>\n      <td>1</td>\n      <td>37.717652</td>\n      <td>-122.453226</td>\n      <td>1469522434748</td>\n      <td>1469521960685</td>\n    </tr>\n    <tr>\n      <th>...</th>\n      <td>...</td>\n      <td>...</td>\n      <td>...</td>\n      <td>...</td>\n      <td>...</td>\n      <td>...</td>\n      <td>...</td>\n      <td>...</td>\n      <td>...</td>\n      <td>...</td>\n      <td>...</td>\n      <td>...</td>\n      <td>...</td>\n      <td>...</td>\n      <td>...</td>\n      <td>...</td>\n      <td>...</td>\n      <td>...</td>\n    </tr>\n    <tr>\n      <th>281143</th>\n      <td>Dragonair</td>\n      <td>122</td>\n      <td>170</td>\n      <td>152</td>\n      <td>0.08</td>\n      <td>0.06</td>\n      <td>2.0</td>\n      <td>Dragon</td>\n      <td>NaN</td>\n      <td>1760</td>\n      <td>http://cdn.bulbagarden.net/upload/thumb/9/93/1...</td>\n      <td>-9185790380451299000</td>\n      <td>8085845142b</td>\n      <td>148</td>\n      <td>37.860065</td>\n      <td>-122.485598</td>\n      <td>1469558403276</td>\n      <td>1469557938584</td>\n    </tr>\n    <tr>\n      <th>281144</th>\n      <td>Dragonair</td>\n      <td>122</td>\n      <td>170</td>\n      <td>152</td>\n      <td>0.08</td>\n      <td>0.06</td>\n      <td>2.0</td>\n      <td>Dragon</td>\n      <td>NaN</td>\n      <td>1760</td>\n      <td>http://cdn.bulbagarden.net/upload/thumb/9/93/1...</td>\n      <td>-9185790380451299000</td>\n      <td>8085845142b</td>\n      <td>148</td>\n      <td>37.860065</td>\n      <td>-122.485598</td>\n      <td>1469558403276</td>\n      <td>1469557938645</td>\n    </tr>\n    <tr>\n      <th>281145</th>\n      <td>Dragonair</td>\n      <td>122</td>\n      <td>170</td>\n      <td>152</td>\n      <td>0.08</td>\n      <td>0.06</td>\n      <td>2.0</td>\n      <td>Dragon</td>\n      <td>NaN</td>\n      <td>1760</td>\n      <td>http://cdn.bulbagarden.net/upload/thumb/9/93/1...</td>\n      <td>-9185794164317487000</td>\n      <td>808580e0793</td>\n      <td>148</td>\n      <td>37.806800</td>\n      <td>-122.423853</td>\n      <td>1469570699180</td>\n      <td>1469570176378</td>\n    </tr>\n    <tr>\n      <th>281146</th>\n      <td>Dragonair</td>\n      <td>122</td>\n      <td>170</td>\n      <td>152</td>\n      <td>0.08</td>\n      <td>0.06</td>\n      <td>2.0</td>\n      <td>Dragon</td>\n      <td>NaN</td>\n      <td>1760</td>\n      <td>http://cdn.bulbagarden.net/upload/thumb/9/93/1...</td>\n      <td>-9185794164317487000</td>\n      <td>808580e0793</td>\n      <td>148</td>\n      <td>37.806800</td>\n      <td>-122.423853</td>\n      <td>1469570699180</td>\n      <td>1469570176379</td>\n    </tr>\n    <tr>\n      <th>281147</th>\n      <td>Dragonair</td>\n      <td>122</td>\n      <td>170</td>\n      <td>152</td>\n      <td>0.08</td>\n      <td>0.06</td>\n      <td>2.0</td>\n      <td>Dragon</td>\n      <td>NaN</td>\n      <td>1760</td>\n      <td>http://cdn.bulbagarden.net/upload/thumb/9/93/1...</td>\n      <td>-9185794164317487000</td>\n      <td>808580e0793</td>\n      <td>148</td>\n      <td>37.806800</td>\n      <td>-122.423853</td>\n      <td>1469570699180</td>\n      <td>1469570176509</td>\n    </tr>\n  </tbody>\n</table>\n<p>281148 rows × 18 columns</p>\n</div>"
     },
     "metadata": {},
     "execution_count": 11
    }
   ],
   "source": [
    "#Save from CSVs\n",
    "pk_go_csv = pd.read_csv(\"Resources/pkmn-go.csv\")\n",
    "poke_spawns = pd.read_csv(\"Resources/pokemon-spawns.csv\")\n",
    "\n",
    "merged_csv = pd.merge(pk_go_csv, poke_spawns, on=\"name\")\n",
    "merged_csv.head(None)\n",
    "\n",
    "cleaned_csv = merged_csv.drop_duplicates()\n",
    "\n",
    "cleaned_csv.reset_index(drop=True).head(None)"
   ]
  },
  {
   "cell_type": "code",
   "execution_count": 33,
   "metadata": {},
   "outputs": [
    {
     "output_type": "execute_result",
     "data": {
      "text/plain": [
       "          Average Spawn Chance\n",
       "Primary                       \n",
       "Bug                 379.833365\n",
       "Dragon               29.236729\n",
       "Electric             46.232262\n",
       "Fairy                90.213858\n",
       "Fighting             77.092287\n",
       "Fire                 67.953618\n",
       "Ghost                76.065783\n",
       "Grass                86.055763\n",
       "Ground               75.094822\n",
       "Ice                  35.000000\n",
       "Normal              996.178925\n",
       "Poison              521.554016\n",
       "Psychic             105.984917\n",
       "Rock                 98.861006\n",
       "Water               249.047454"
      ],
      "text/html": "<div>\n<style scoped>\n    .dataframe tbody tr th:only-of-type {\n        vertical-align: middle;\n    }\n\n    .dataframe tbody tr th {\n        vertical-align: top;\n    }\n\n    .dataframe thead th {\n        text-align: right;\n    }\n</style>\n<table border=\"1\" class=\"dataframe\">\n  <thead>\n    <tr style=\"text-align: right;\">\n      <th></th>\n      <th>Average Spawn Chance</th>\n    </tr>\n    <tr>\n      <th>Primary</th>\n      <th></th>\n    </tr>\n  </thead>\n  <tbody>\n    <tr>\n      <th>Bug</th>\n      <td>379.833365</td>\n    </tr>\n    <tr>\n      <th>Dragon</th>\n      <td>29.236729</td>\n    </tr>\n    <tr>\n      <th>Electric</th>\n      <td>46.232262</td>\n    </tr>\n    <tr>\n      <th>Fairy</th>\n      <td>90.213858</td>\n    </tr>\n    <tr>\n      <th>Fighting</th>\n      <td>77.092287</td>\n    </tr>\n    <tr>\n      <th>Fire</th>\n      <td>67.953618</td>\n    </tr>\n    <tr>\n      <th>Ghost</th>\n      <td>76.065783</td>\n    </tr>\n    <tr>\n      <th>Grass</th>\n      <td>86.055763</td>\n    </tr>\n    <tr>\n      <th>Ground</th>\n      <td>75.094822</td>\n    </tr>\n    <tr>\n      <th>Ice</th>\n      <td>35.000000</td>\n    </tr>\n    <tr>\n      <th>Normal</th>\n      <td>996.178925</td>\n    </tr>\n    <tr>\n      <th>Poison</th>\n      <td>521.554016</td>\n    </tr>\n    <tr>\n      <th>Psychic</th>\n      <td>105.984917</td>\n    </tr>\n    <tr>\n      <th>Rock</th>\n      <td>98.861006</td>\n    </tr>\n    <tr>\n      <th>Water</th>\n      <td>249.047454</td>\n    </tr>\n  </tbody>\n</table>\n</div>"
     },
     "metadata": {},
     "execution_count": 33
    }
   ],
   "source": [
    "poketype = cleaned_csv.groupby('primary')\n",
    "spawn_chance = poketype['spawn_chance'].mean()\n",
    "spawn_df = spawn_chance.rename_axis('Primary').to_frame('Average Spawn Chance')\n",
    "spawn_df.sort_values(by='Average Spawn Chance', ascending = False)\n",
    "spawn_df.head(None)"
   ]
  },
  {
   "cell_type": "code",
   "execution_count": 52,
   "metadata": {},
   "outputs": [
    {
     "output_type": "stream",
     "name": "stdout",
     "text": [
      "Dratini      678\nDragonair     19\nName: name, dtype: int64\nPidgey     40976\nRattata    28183\nSpearow    13679\nDoduo      10904\nEevee       9089\nName: name, dtype: int64\n"
     ]
    },
    {
     "output_type": "execute_result",
     "data": {
      "text/plain": [
       "3135"
      ]
     },
     "metadata": {},
     "execution_count": 52
    }
   ],
   "source": [
    "dragon_df = cleaned_csv[cleaned_csv['primary'] == 'Dragon']\n",
    "print(dragon_df.name.value_counts().head())\n",
    "normal_df = cleaned_csv[cleaned_csv['primary'] == 'Normal']\n",
    "print(normal_df.name.value_counts().head())\n",
    "ice_df = cleaned_csv[cleaned_csv['primary'] == 'Ice']\n",
    "ice_df.name.value_counts().head()\n",
    "normal_df.cp.max()"
   ]
  },
  {
   "cell_type": "code",
   "execution_count": 10,
   "metadata": {},
   "outputs": [
    {
     "output_type": "display_data",
     "data": {
      "text/plain": "Figure(layout=FigureLayout(height='420px'))",
      "application/vnd.jupyter.widget-view+json": {
       "version_major": 2,
       "version_minor": 0,
       "model_id": "07208646b44b408f974da662e4e880ef"
      }
     },
     "metadata": {}
    }
   ],
   "source": [
    "#Access maps with API key\n",
    "gmaps.configure(api_key=g_key)\n",
    "\n",
    "highest_avg_cp = cleaned_csv[cleaned_csv['primary'] == 'Dragon']\n",
    "locations = highest_avg_cp[[\"lat\", \"lng\"]]\n",
    "cp = cleaned[\"spawn_chance\"].astype(float)\n",
    "# Using the template add marks to the heatmap\n",
    "info_box_template = \"\"\"\n",
    "<dl>\n",
    "<dt>Name</dt><dd>{name}</dd>\n",
    "<dt>CP</dt><dd>{cp}</dd>\n",
    "</dl>\n",
    "\"\"\"\n",
    "# Store the DataFrame Row\n",
    "# NOTE: be sure to update with your DataFrame name\n",
    "poke_info = [info_box_template.format(**row) for index, row in highest_avg_cp.iterrows()]\n",
    "\n",
    "#Plot Heatmap\n",
    "fig = gmaps.figure()\n",
    "#Add markers\n",
    "markers = gmaps.marker_layer(locations, info_box_content=poke_info)\n",
    "fig.add_layer(markers)\n",
    "#Create Heatlayer\n",
    "heat_layer = gmaps.heatmap_layer(locations, cp, dissipating=False, max_intensity=2000, point_radius=1)\n",
    "\n",
    "#Add layer\n",
    "fig.add_layer(heat_layer)\n",
    "\n",
    "fig"
   ]
  },
  {
   "cell_type": "code",
   "execution_count": 29,
   "metadata": {},
   "outputs": [
    {
     "output_type": "error",
     "ename": "NameError",
     "evalue": "name 'weights' is not defined",
     "traceback": [
      "\u001b[1;31m---------------------------------------------------------------------------\u001b[0m",
      "\u001b[1;31mNameError\u001b[0m                                 Traceback (most recent call last)",
      "\u001b[1;32m<ipython-input-29-98f3855dcbb7>\u001b[0m in \u001b[0;36m<module>\u001b[1;34m\u001b[0m\n\u001b[0;32m     22\u001b[0m \u001b[0mfig\u001b[0m\u001b[1;33m.\u001b[0m\u001b[0madd_layer\u001b[0m\u001b[1;33m(\u001b[0m\u001b[0mmarkers\u001b[0m\u001b[1;33m)\u001b[0m\u001b[1;33m\u001b[0m\u001b[1;33m\u001b[0m\u001b[0m\n\u001b[0;32m     23\u001b[0m \u001b[1;31m#Create Heatlayer\u001b[0m\u001b[1;33m\u001b[0m\u001b[1;33m\u001b[0m\u001b[1;33m\u001b[0m\u001b[0m\n\u001b[1;32m---> 24\u001b[1;33m \u001b[0mheat_layer\u001b[0m \u001b[1;33m=\u001b[0m \u001b[0mgmaps\u001b[0m\u001b[1;33m.\u001b[0m\u001b[0mheatmap_layer\u001b[0m\u001b[1;33m(\u001b[0m\u001b[0mlocations\u001b[0m\u001b[1;33m,\u001b[0m \u001b[0mweights\u001b[0m\u001b[1;33m,\u001b[0m \u001b[0mdissipating\u001b[0m\u001b[1;33m=\u001b[0m\u001b[1;32mFalse\u001b[0m\u001b[1;33m,\u001b[0m \u001b[0mmax_intensity\u001b[0m\u001b[1;33m=\u001b[0m\u001b[1;36m2000\u001b[0m\u001b[1;33m,\u001b[0m \u001b[0mpoint_radius\u001b[0m\u001b[1;33m=\u001b[0m\u001b[1;36m1\u001b[0m\u001b[1;33m)\u001b[0m\u001b[1;33m\u001b[0m\u001b[1;33m\u001b[0m\u001b[0m\n\u001b[0m\u001b[0;32m     25\u001b[0m \u001b[1;33m\u001b[0m\u001b[0m\n\u001b[0;32m     26\u001b[0m \u001b[1;31m#Add layer\u001b[0m\u001b[1;33m\u001b[0m\u001b[1;33m\u001b[0m\u001b[1;33m\u001b[0m\u001b[0m\n",
      "\u001b[1;31mNameError\u001b[0m: name 'weights' is not defined"
     ]
    }
   ],
   "source": [
    "#Access maps with API key\n",
    "gmaps.configure(api_key=g_key)\n",
    "\n",
    "highest_avg_cp = cleaned_csv[cleaned_csv['primary'] == 'Fairy']\n",
    "locations = highest_avg_cp[[\"lat\", \"lng\"]]\n",
    "cp = highest_avg_cp[\"spawn_chance\"].astype(float)\n",
    "# Using the template add marks to the heatmap\n",
    "info_box_template = \"\"\"\n",
    "<dl>\n",
    "<dt>Name</dt><dd>{name}</dd>\n",
    "<dt>CP</dt><dd>{cp}</dd>\n",
    "</dl>\n",
    "\"\"\"\n",
    "# Store the DataFrame Row\n",
    "# NOTE: be sure to update with your DataFrame name\n",
    "poke_info = [info_box_template.format(**row) for index, row in highest_avg_cp.iterrows()]\n",
    "\n",
    "#Plot Heatmap\n",
    "fig = gmaps.figure()\n",
    "#Add markers\n",
    "markers = gmaps.marker_layer(locations, info_box_content=poke_info)\n",
    "fig.add_layer(markers)\n",
    "#Create Heatlayer\n",
    "heat_layer = gmaps.heatmap_layer(locations, weights, dissipating=False, max_intensity=2000, point_radius=1)\n",
    "\n",
    "#Add layer\n",
    "fig.add_layer(heat_layer)\n",
    "\n",
    "fig"
   ]
  },
  {
   "cell_type": "code",
   "execution_count": 18,
   "metadata": {},
   "outputs": [
    {
     "output_type": "execute_result",
     "data": {
      "text/plain": [
       "          Capture Rate\n",
       "Primary               \n",
       "Water         0.424168\n",
       "Poison        0.390533\n",
       "Psychic       0.389640\n",
       "Fighting      0.388895\n",
       "Normal        0.383643\n",
       "Ground        0.374971\n",
       "Rock          0.370827\n",
       "Bug           0.359411\n",
       "Grass         0.352180\n",
       "Ghost         0.313639\n",
       "Dragon        0.313458\n",
       "Electric      0.294892\n",
       "Fire          0.248162\n",
       "Ice           0.240000\n",
       "Fairy         0.236853"
      ],
      "text/html": "<div>\n<style scoped>\n    .dataframe tbody tr th:only-of-type {\n        vertical-align: middle;\n    }\n\n    .dataframe tbody tr th {\n        vertical-align: top;\n    }\n\n    .dataframe thead th {\n        text-align: right;\n    }\n</style>\n<table border=\"1\" class=\"dataframe\">\n  <thead>\n    <tr style=\"text-align: right;\">\n      <th></th>\n      <th>Capture Rate</th>\n    </tr>\n    <tr>\n      <th>Primary</th>\n      <th></th>\n    </tr>\n  </thead>\n  <tbody>\n    <tr>\n      <th>Water</th>\n      <td>0.424168</td>\n    </tr>\n    <tr>\n      <th>Poison</th>\n      <td>0.390533</td>\n    </tr>\n    <tr>\n      <th>Psychic</th>\n      <td>0.389640</td>\n    </tr>\n    <tr>\n      <th>Fighting</th>\n      <td>0.388895</td>\n    </tr>\n    <tr>\n      <th>Normal</th>\n      <td>0.383643</td>\n    </tr>\n    <tr>\n      <th>Ground</th>\n      <td>0.374971</td>\n    </tr>\n    <tr>\n      <th>Rock</th>\n      <td>0.370827</td>\n    </tr>\n    <tr>\n      <th>Bug</th>\n      <td>0.359411</td>\n    </tr>\n    <tr>\n      <th>Grass</th>\n      <td>0.352180</td>\n    </tr>\n    <tr>\n      <th>Ghost</th>\n      <td>0.313639</td>\n    </tr>\n    <tr>\n      <th>Dragon</th>\n      <td>0.313458</td>\n    </tr>\n    <tr>\n      <th>Electric</th>\n      <td>0.294892</td>\n    </tr>\n    <tr>\n      <th>Fire</th>\n      <td>0.248162</td>\n    </tr>\n    <tr>\n      <th>Ice</th>\n      <td>0.240000</td>\n    </tr>\n    <tr>\n      <th>Fairy</th>\n      <td>0.236853</td>\n    </tr>\n  </tbody>\n</table>\n</div>"
     },
     "metadata": {},
     "execution_count": 18
    }
   ],
   "source": [
    "spawn_chance = poketype['capture_rate'].mean()\n",
    "spawn_df = spawn_chance.rename_axis('Primary').to_frame('Capture Rate')\n",
    "spawn_df.sort_values(by='Capture Rate', ascending = False)"
   ]
  },
  {
   "cell_type": "code",
   "execution_count": 6,
   "metadata": {},
   "outputs": [
    {
     "output_type": "execute_result",
     "data": {
      "text/plain": [
       "           Average CP\n",
       "Primary              \n",
       "Poison     742.337472\n",
       "Psychic    750.301141\n",
       "Normal     750.316102\n",
       "Bug        775.204481\n",
       "Water      805.157419\n",
       "Ghost      833.060241\n",
       "Ground     903.521699\n",
       "Rock       919.005061\n",
       "Electric   947.103846\n",
       "Fighting   975.860917\n",
       "Dragon    1010.989957\n",
       "Grass     1180.466268\n",
       "Fairy     1232.703758\n",
       "Fire      1387.389116\n",
       "Ice       1728.000000"
      ],
      "text/html": "<div>\n<style scoped>\n    .dataframe tbody tr th:only-of-type {\n        vertical-align: middle;\n    }\n\n    .dataframe tbody tr th {\n        vertical-align: top;\n    }\n\n    .dataframe thead th {\n        text-align: right;\n    }\n</style>\n<table border=\"1\" class=\"dataframe\">\n  <thead>\n    <tr style=\"text-align: right;\">\n      <th></th>\n      <th>Average CP</th>\n    </tr>\n    <tr>\n      <th>Primary</th>\n      <th></th>\n    </tr>\n  </thead>\n  <tbody>\n    <tr>\n      <th>Poison</th>\n      <td>742.337472</td>\n    </tr>\n    <tr>\n      <th>Psychic</th>\n      <td>750.301141</td>\n    </tr>\n    <tr>\n      <th>Normal</th>\n      <td>750.316102</td>\n    </tr>\n    <tr>\n      <th>Bug</th>\n      <td>775.204481</td>\n    </tr>\n    <tr>\n      <th>Water</th>\n      <td>805.157419</td>\n    </tr>\n    <tr>\n      <th>Ghost</th>\n      <td>833.060241</td>\n    </tr>\n    <tr>\n      <th>Ground</th>\n      <td>903.521699</td>\n    </tr>\n    <tr>\n      <th>Rock</th>\n      <td>919.005061</td>\n    </tr>\n    <tr>\n      <th>Electric</th>\n      <td>947.103846</td>\n    </tr>\n    <tr>\n      <th>Fighting</th>\n      <td>975.860917</td>\n    </tr>\n    <tr>\n      <th>Dragon</th>\n      <td>1010.989957</td>\n    </tr>\n    <tr>\n      <th>Grass</th>\n      <td>1180.466268</td>\n    </tr>\n    <tr>\n      <th>Fairy</th>\n      <td>1232.703758</td>\n    </tr>\n    <tr>\n      <th>Fire</th>\n      <td>1387.389116</td>\n    </tr>\n    <tr>\n      <th>Ice</th>\n      <td>1728.000000</td>\n    </tr>\n  </tbody>\n</table>\n</div>"
     },
     "metadata": {},
     "execution_count": 6
    }
   ],
   "source": [
    "avg_cp = poketype['cp'].mean()\n",
    "cp_df = avg_cp.rename_axis('Primary').to_frame('Average CP')\n",
    "cp_df.sort_values(by='Average CP', ascending = True)\n",
    "\n"
   ]
  },
  {
   "cell_type": "code",
   "execution_count": 57,
   "metadata": {},
   "outputs": [
    {
     "output_type": "stream",
     "name": "stdout",
     "text": [
      "Average by Pokemon Type\n"
     ]
    },
    {
     "output_type": "execute_result",
     "data": {
      "text/plain": [
       "          Average Spawn Chance  Average CP  Average Capture Rate  Max CP\n",
       "primary                                                                 \n",
       "Ghost                76.065783        1390              0.313639    1390\n",
       "Ice                  35.000000        1728              0.240000    1728\n",
       "Dragon               29.236729        1760              0.313458    1760\n",
       "Bug                 379.833365        2137              0.359411    2137\n",
       "Electric             46.232262        2155              0.294892    2155\n",
       "Psychic             105.984917        2199              0.389640    2199\n",
       "Ground               75.094822        2259              0.374971    2259\n",
       "Rock                 98.861006        2319              0.370827    2319\n",
       "Fairy                90.213858        2414              0.236853    2414\n",
       "Fighting             77.092287        2612              0.388895    2612\n",
       "Poison              521.554016        2621              0.390533    2621\n",
       "Water               249.047454        2836              0.424168    2836\n",
       "Grass                86.055763        2976              0.352180    2976\n",
       "Fire                 67.953618        3005              0.248162    3005\n",
       "Normal              996.178925        3135              0.383643    3135"
      ],
      "text/html": "<div>\n<style scoped>\n    .dataframe tbody tr th:only-of-type {\n        vertical-align: middle;\n    }\n\n    .dataframe tbody tr th {\n        vertical-align: top;\n    }\n\n    .dataframe thead th {\n        text-align: right;\n    }\n</style>\n<table border=\"1\" class=\"dataframe\">\n  <thead>\n    <tr style=\"text-align: right;\">\n      <th></th>\n      <th>Average Spawn Chance</th>\n      <th>Average CP</th>\n      <th>Average Capture Rate</th>\n      <th>Max CP</th>\n    </tr>\n    <tr>\n      <th>primary</th>\n      <th></th>\n      <th></th>\n      <th></th>\n      <th></th>\n    </tr>\n  </thead>\n  <tbody>\n    <tr>\n      <th>Ghost</th>\n      <td>76.065783</td>\n      <td>1390</td>\n      <td>0.313639</td>\n      <td>1390</td>\n    </tr>\n    <tr>\n      <th>Ice</th>\n      <td>35.000000</td>\n      <td>1728</td>\n      <td>0.240000</td>\n      <td>1728</td>\n    </tr>\n    <tr>\n      <th>Dragon</th>\n      <td>29.236729</td>\n      <td>1760</td>\n      <td>0.313458</td>\n      <td>1760</td>\n    </tr>\n    <tr>\n      <th>Bug</th>\n      <td>379.833365</td>\n      <td>2137</td>\n      <td>0.359411</td>\n      <td>2137</td>\n    </tr>\n    <tr>\n      <th>Electric</th>\n      <td>46.232262</td>\n      <td>2155</td>\n      <td>0.294892</td>\n      <td>2155</td>\n    </tr>\n    <tr>\n      <th>Psychic</th>\n      <td>105.984917</td>\n      <td>2199</td>\n      <td>0.389640</td>\n      <td>2199</td>\n    </tr>\n    <tr>\n      <th>Ground</th>\n      <td>75.094822</td>\n      <td>2259</td>\n      <td>0.374971</td>\n      <td>2259</td>\n    </tr>\n    <tr>\n      <th>Rock</th>\n      <td>98.861006</td>\n      <td>2319</td>\n      <td>0.370827</td>\n      <td>2319</td>\n    </tr>\n    <tr>\n      <th>Fairy</th>\n      <td>90.213858</td>\n      <td>2414</td>\n      <td>0.236853</td>\n      <td>2414</td>\n    </tr>\n    <tr>\n      <th>Fighting</th>\n      <td>77.092287</td>\n      <td>2612</td>\n      <td>0.388895</td>\n      <td>2612</td>\n    </tr>\n    <tr>\n      <th>Poison</th>\n      <td>521.554016</td>\n      <td>2621</td>\n      <td>0.390533</td>\n      <td>2621</td>\n    </tr>\n    <tr>\n      <th>Water</th>\n      <td>249.047454</td>\n      <td>2836</td>\n      <td>0.424168</td>\n      <td>2836</td>\n    </tr>\n    <tr>\n      <th>Grass</th>\n      <td>86.055763</td>\n      <td>2976</td>\n      <td>0.352180</td>\n      <td>2976</td>\n    </tr>\n    <tr>\n      <th>Fire</th>\n      <td>67.953618</td>\n      <td>3005</td>\n      <td>0.248162</td>\n      <td>3005</td>\n    </tr>\n    <tr>\n      <th>Normal</th>\n      <td>996.178925</td>\n      <td>3135</td>\n      <td>0.383643</td>\n      <td>3135</td>\n    </tr>\n  </tbody>\n</table>\n</div>"
     },
     "metadata": {},
     "execution_count": 57
    }
   ],
   "source": [
    "# Generate a summary statistics table of mean, median, variance, standard deviation, and SEM of the tumor volume for each regimen\n",
    "poke_group = cleaned_csv.groupby(['primary'])\n",
    "spawn_mean = poke_group.mean()['spawn_chance']\n",
    "poke_max = poke_group[\"cp\"].max()\n",
    "capture_avg = poke_group.mean()[\"capture_rate\"]\n",
    "\n",
    "\n",
    "poke_table = pd.DataFrame({\n",
    "    \"Average Spawn Chance\": drug_mean,\n",
    "    \"Average CP\": drug_var,\n",
    "    \"Average Capture Rate\": drug_std,\n",
    "    \"Max CP\": poke_max,\n",
    "    })\n",
    "\n",
    "print(\"Average by Pokemon Type\")\n",
    "poke_table.sort_values(by='Average CP')"
   ]
  },
  {
   "cell_type": "code",
   "execution_count": null,
   "metadata": {},
   "outputs": [],
   "source": [
    "plt.scatter(poke_group[\"Max Temp\"], weather_data['Lat'], edgecolors=\"b\", facecolors=\"skyblue\")\n",
    "plt.title(f\"Max Temperature vs Latitude on {today}\")\n",
    "plt.xlabel(\"Max Temperature\")\n",
    "plt.ylabel(\"Latitude\")\n",
    "plt.savefig(\"../output_data/latitude_vs_max_temp.png\")\n",
    "plt.show()"
   ]
  },
  {
   "cell_type": "code",
   "execution_count": 28,
   "metadata": {},
   "outputs": [
    {
     "output_type": "display_data",
     "data": {
      "text/plain": "<Figure size 432x288 with 1 Axes>",
      "image/svg+xml": "<?xml version=\"1.0\" encoding=\"utf-8\" standalone=\"no\"?>\r\n<!DOCTYPE svg PUBLIC \"-//W3C//DTD SVG 1.1//EN\"\r\n  \"http://www.w3.org/Graphics/SVG/1.1/DTD/svg11.dtd\">\r\n<!-- Created with matplotlib (https://matplotlib.org/) -->\r\n<svg height=\"295.751775pt\" version=\"1.1\" viewBox=\"0 0 438.428125 295.751775\" width=\"438.428125pt\" xmlns=\"http://www.w3.org/2000/svg\" xmlns:xlink=\"http://www.w3.org/1999/xlink\">\r\n <defs>\r\n  <style type=\"text/css\">\r\n*{stroke-linecap:butt;stroke-linejoin:round;}\r\n  </style>\r\n </defs>\r\n <g id=\"figure_1\">\r\n  <g id=\"patch_1\">\r\n   <path d=\"M 0 295.751775 \r\nL 438.428125 295.751775 \r\nL 438.428125 0 \r\nL 0 0 \r\nz\r\n\" style=\"fill:none;\"/>\r\n  </g>\r\n  <g id=\"axes_1\">\r\n   <g id=\"patch_2\">\r\n    <path d=\"M 53.328125 244.891691 \r\nL 431.228125 244.891691 \r\nL 431.228125 22.318125 \r\nL 53.328125 22.318125 \r\nz\r\n\" style=\"fill:#ffffff;\"/>\r\n   </g>\r\n   <g id=\"patch_3\">\r\n    <path clip-path=\"url(#pf5ee092f8a)\" d=\"M 72.223125 244.891691 \r\nL 110.013125 244.891691 \r\nL 110.013125 32.916866 \r\nL 72.223125 32.916866 \r\nz\r\n\" style=\"fill:#0000ff;\"/>\r\n   </g>\r\n   <g id=\"patch_4\">\r\n    <path clip-path=\"url(#pf5ee092f8a)\" d=\"M 147.803125 244.891691 \r\nL 185.593125 244.891691 \r\nL 185.593125 62.062555 \r\nL 147.803125 62.062555 \r\nz\r\n\" style=\"fill:#0000ff;\"/>\r\n   </g>\r\n   <g id=\"patch_5\">\r\n    <path clip-path=\"url(#pf5ee092f8a)\" d=\"M 223.383125 244.891691 \r\nL 261.173125 244.891691 \r\nL 261.173125 167.698678 \r\nL 223.383125 167.698678 \r\nz\r\n\" style=\"fill:#0000ff;\"/>\r\n   </g>\r\n   <g id=\"patch_6\">\r\n    <path clip-path=\"url(#pf5ee092f8a)\" d=\"M 298.963125 244.891691 \r\nL 336.753125 244.891691 \r\nL 336.753125 229.095 \r\nL 298.963125 229.095 \r\nz\r\n\" style=\"fill:#0000ff;\"/>\r\n   </g>\r\n   <g id=\"patch_7\">\r\n    <path clip-path=\"url(#pf5ee092f8a)\" d=\"M 374.543125 244.891691 \r\nL 412.333125 244.891691 \r\nL 412.333125 242.285351 \r\nL 374.543125 242.285351 \r\nz\r\n\" style=\"fill:#0000ff;\"/>\r\n   </g>\r\n   <g id=\"matplotlib.axis_1\">\r\n    <g id=\"xtick_1\">\r\n     <g id=\"line2d_1\">\r\n      <defs>\r\n       <path d=\"M 0 0 \r\nL 0 3.5 \r\n\" id=\"ma0dd661e64\" style=\"stroke:#000000;stroke-width:0.8;\"/>\r\n      </defs>\r\n      <g>\r\n       <use style=\"stroke:#000000;stroke-width:0.8;\" x=\"91.118125\" xlink:href=\"#ma0dd661e64\" y=\"244.891691\"/>\r\n      </g>\r\n     </g>\r\n     <g id=\"text_1\">\r\n      <!-- Grass -->\r\n      <defs>\r\n       <path d=\"M 59.515625 10.40625 \r\nL 59.515625 29.984375 \r\nL 43.40625 29.984375 \r\nL 43.40625 38.09375 \r\nL 69.28125 38.09375 \r\nL 69.28125 6.78125 \r\nQ 63.578125 2.734375 56.6875 0.65625 \r\nQ 49.8125 -1.421875 42 -1.421875 \r\nQ 24.90625 -1.421875 15.25 8.5625 \r\nQ 5.609375 18.5625 5.609375 36.375 \r\nQ 5.609375 54.25 15.25 64.234375 \r\nQ 24.90625 74.21875 42 74.21875 \r\nQ 49.125 74.21875 55.546875 72.453125 \r\nQ 61.96875 70.703125 67.390625 67.28125 \r\nL 67.390625 56.78125 \r\nQ 61.921875 61.421875 55.765625 63.765625 \r\nQ 49.609375 66.109375 42.828125 66.109375 \r\nQ 29.4375 66.109375 22.71875 58.640625 \r\nQ 16.015625 51.171875 16.015625 36.375 \r\nQ 16.015625 21.625 22.71875 14.15625 \r\nQ 29.4375 6.6875 42.828125 6.6875 \r\nQ 48.046875 6.6875 52.140625 7.59375 \r\nQ 56.25 8.5 59.515625 10.40625 \r\nz\r\n\" id=\"DejaVuSans-71\"/>\r\n       <path d=\"M 41.109375 46.296875 \r\nQ 39.59375 47.171875 37.8125 47.578125 \r\nQ 36.03125 48 33.890625 48 \r\nQ 26.265625 48 22.1875 43.046875 \r\nQ 18.109375 38.09375 18.109375 28.8125 \r\nL 18.109375 0 \r\nL 9.078125 0 \r\nL 9.078125 54.6875 \r\nL 18.109375 54.6875 \r\nL 18.109375 46.1875 \r\nQ 20.953125 51.171875 25.484375 53.578125 \r\nQ 30.03125 56 36.53125 56 \r\nQ 37.453125 56 38.578125 55.875 \r\nQ 39.703125 55.765625 41.0625 55.515625 \r\nz\r\n\" id=\"DejaVuSans-114\"/>\r\n       <path d=\"M 34.28125 27.484375 \r\nQ 23.390625 27.484375 19.1875 25 \r\nQ 14.984375 22.515625 14.984375 16.5 \r\nQ 14.984375 11.71875 18.140625 8.90625 \r\nQ 21.296875 6.109375 26.703125 6.109375 \r\nQ 34.1875 6.109375 38.703125 11.40625 \r\nQ 43.21875 16.703125 43.21875 25.484375 \r\nL 43.21875 27.484375 \r\nz\r\nM 52.203125 31.203125 \r\nL 52.203125 0 \r\nL 43.21875 0 \r\nL 43.21875 8.296875 \r\nQ 40.140625 3.328125 35.546875 0.953125 \r\nQ 30.953125 -1.421875 24.3125 -1.421875 \r\nQ 15.921875 -1.421875 10.953125 3.296875 \r\nQ 6 8.015625 6 15.921875 \r\nQ 6 25.140625 12.171875 29.828125 \r\nQ 18.359375 34.515625 30.609375 34.515625 \r\nL 43.21875 34.515625 \r\nL 43.21875 35.40625 \r\nQ 43.21875 41.609375 39.140625 45 \r\nQ 35.0625 48.390625 27.6875 48.390625 \r\nQ 23 48.390625 18.546875 47.265625 \r\nQ 14.109375 46.140625 10.015625 43.890625 \r\nL 10.015625 52.203125 \r\nQ 14.9375 54.109375 19.578125 55.046875 \r\nQ 24.21875 56 28.609375 56 \r\nQ 40.484375 56 46.34375 49.84375 \r\nQ 52.203125 43.703125 52.203125 31.203125 \r\nz\r\n\" id=\"DejaVuSans-97\"/>\r\n       <path d=\"M 44.28125 53.078125 \r\nL 44.28125 44.578125 \r\nQ 40.484375 46.53125 36.375 47.5 \r\nQ 32.28125 48.484375 27.875 48.484375 \r\nQ 21.1875 48.484375 17.84375 46.4375 \r\nQ 14.5 44.390625 14.5 40.28125 \r\nQ 14.5 37.15625 16.890625 35.375 \r\nQ 19.28125 33.59375 26.515625 31.984375 \r\nL 29.59375 31.296875 \r\nQ 39.15625 29.25 43.1875 25.515625 \r\nQ 47.21875 21.78125 47.21875 15.09375 \r\nQ 47.21875 7.46875 41.1875 3.015625 \r\nQ 35.15625 -1.421875 24.609375 -1.421875 \r\nQ 20.21875 -1.421875 15.453125 -0.5625 \r\nQ 10.6875 0.296875 5.421875 2 \r\nL 5.421875 11.28125 \r\nQ 10.40625 8.6875 15.234375 7.390625 \r\nQ 20.0625 6.109375 24.8125 6.109375 \r\nQ 31.15625 6.109375 34.5625 8.28125 \r\nQ 37.984375 10.453125 37.984375 14.40625 \r\nQ 37.984375 18.0625 35.515625 20.015625 \r\nQ 33.0625 21.96875 24.703125 23.78125 \r\nL 21.578125 24.515625 \r\nQ 13.234375 26.265625 9.515625 29.90625 \r\nQ 5.8125 33.546875 5.8125 39.890625 \r\nQ 5.8125 47.609375 11.28125 51.796875 \r\nQ 16.75 56 26.8125 56 \r\nQ 31.78125 56 36.171875 55.265625 \r\nQ 40.578125 54.546875 44.28125 53.078125 \r\nz\r\n\" id=\"DejaVuSans-115\"/>\r\n      </defs>\r\n      <g transform=\"translate(86.406251 280.291444)rotate(-60)scale(0.1 -0.1)\">\r\n       <use xlink:href=\"#DejaVuSans-71\"/>\r\n       <use x=\"77.490234\" xlink:href=\"#DejaVuSans-114\"/>\r\n       <use x=\"118.603516\" xlink:href=\"#DejaVuSans-97\"/>\r\n       <use x=\"179.882812\" xlink:href=\"#DejaVuSans-115\"/>\r\n       <use x=\"231.982422\" xlink:href=\"#DejaVuSans-115\"/>\r\n      </g>\r\n     </g>\r\n    </g>\r\n    <g id=\"xtick_2\">\r\n     <g id=\"line2d_2\">\r\n      <g>\r\n       <use style=\"stroke:#000000;stroke-width:0.8;\" x=\"166.698125\" xlink:href=\"#ma0dd661e64\" y=\"244.891691\"/>\r\n      </g>\r\n     </g>\r\n     <g id=\"text_2\">\r\n      <!-- Fire -->\r\n      <defs>\r\n       <path d=\"M 9.8125 72.90625 \r\nL 51.703125 72.90625 \r\nL 51.703125 64.59375 \r\nL 19.671875 64.59375 \r\nL 19.671875 43.109375 \r\nL 48.578125 43.109375 \r\nL 48.578125 34.8125 \r\nL 19.671875 34.8125 \r\nL 19.671875 0 \r\nL 9.8125 0 \r\nz\r\n\" id=\"DejaVuSans-70\"/>\r\n       <path d=\"M 9.421875 54.6875 \r\nL 18.40625 54.6875 \r\nL 18.40625 0 \r\nL 9.421875 0 \r\nz\r\nM 9.421875 75.984375 \r\nL 18.40625 75.984375 \r\nL 18.40625 64.59375 \r\nL 9.421875 64.59375 \r\nz\r\n\" id=\"DejaVuSans-105\"/>\r\n       <path d=\"M 56.203125 29.59375 \r\nL 56.203125 25.203125 \r\nL 14.890625 25.203125 \r\nQ 15.484375 15.921875 20.484375 11.0625 \r\nQ 25.484375 6.203125 34.421875 6.203125 \r\nQ 39.59375 6.203125 44.453125 7.46875 \r\nQ 49.3125 8.734375 54.109375 11.28125 \r\nL 54.109375 2.78125 \r\nQ 49.265625 0.734375 44.1875 -0.34375 \r\nQ 39.109375 -1.421875 33.890625 -1.421875 \r\nQ 20.796875 -1.421875 13.15625 6.1875 \r\nQ 5.515625 13.8125 5.515625 26.8125 \r\nQ 5.515625 40.234375 12.765625 48.109375 \r\nQ 20.015625 56 32.328125 56 \r\nQ 43.359375 56 49.78125 48.890625 \r\nQ 56.203125 41.796875 56.203125 29.59375 \r\nz\r\nM 47.21875 32.234375 \r\nQ 47.125 39.59375 43.09375 43.984375 \r\nQ 39.0625 48.390625 32.421875 48.390625 \r\nQ 24.90625 48.390625 20.390625 44.140625 \r\nQ 15.875 39.890625 15.1875 32.171875 \r\nz\r\n\" id=\"DejaVuSans-101\"/>\r\n      </defs>\r\n      <g transform=\"translate(164.626876 271.144051)rotate(-60)scale(0.1 -0.1)\">\r\n       <use xlink:href=\"#DejaVuSans-70\"/>\r\n       <use x=\"50.269531\" xlink:href=\"#DejaVuSans-105\"/>\r\n       <use x=\"78.052734\" xlink:href=\"#DejaVuSans-114\"/>\r\n       <use x=\"116.916016\" xlink:href=\"#DejaVuSans-101\"/>\r\n      </g>\r\n     </g>\r\n    </g>\r\n    <g id=\"xtick_3\">\r\n     <g id=\"line2d_3\">\r\n      <g>\r\n       <use style=\"stroke:#000000;stroke-width:0.8;\" x=\"242.278125\" xlink:href=\"#ma0dd661e64\" y=\"244.891691\"/>\r\n      </g>\r\n     </g>\r\n     <g id=\"text_3\">\r\n      <!-- Fairy -->\r\n      <defs>\r\n       <path d=\"M 32.171875 -5.078125 \r\nQ 28.375 -14.84375 24.75 -17.8125 \r\nQ 21.140625 -20.796875 15.09375 -20.796875 \r\nL 7.90625 -20.796875 \r\nL 7.90625 -13.28125 \r\nL 13.1875 -13.28125 \r\nQ 16.890625 -13.28125 18.9375 -11.515625 \r\nQ 21 -9.765625 23.484375 -3.21875 \r\nL 25.09375 0.875 \r\nL 2.984375 54.6875 \r\nL 12.5 54.6875 \r\nL 29.59375 11.921875 \r\nL 46.6875 54.6875 \r\nL 56.203125 54.6875 \r\nz\r\n\" id=\"DejaVuSans-121\"/>\r\n      </defs>\r\n      <g transform=\"translate(238.724064 276.280664)rotate(-60)scale(0.1 -0.1)\">\r\n       <use xlink:href=\"#DejaVuSans-70\"/>\r\n       <use x=\"48.394531\" xlink:href=\"#DejaVuSans-97\"/>\r\n       <use x=\"109.673828\" xlink:href=\"#DejaVuSans-105\"/>\r\n       <use x=\"137.457031\" xlink:href=\"#DejaVuSans-114\"/>\r\n       <use x=\"178.570312\" xlink:href=\"#DejaVuSans-121\"/>\r\n      </g>\r\n     </g>\r\n    </g>\r\n    <g id=\"xtick_4\">\r\n     <g id=\"line2d_4\">\r\n      <g>\r\n       <use style=\"stroke:#000000;stroke-width:0.8;\" x=\"317.858125\" xlink:href=\"#ma0dd661e64\" y=\"244.891691\"/>\r\n      </g>\r\n     </g>\r\n     <g id=\"text_4\">\r\n      <!-- Dragon -->\r\n      <defs>\r\n       <path d=\"M 19.671875 64.796875 \r\nL 19.671875 8.109375 \r\nL 31.59375 8.109375 \r\nQ 46.6875 8.109375 53.6875 14.9375 \r\nQ 60.6875 21.78125 60.6875 36.53125 \r\nQ 60.6875 51.171875 53.6875 57.984375 \r\nQ 46.6875 64.796875 31.59375 64.796875 \r\nz\r\nM 9.8125 72.90625 \r\nL 30.078125 72.90625 \r\nQ 51.265625 72.90625 61.171875 64.09375 \r\nQ 71.09375 55.28125 71.09375 36.53125 \r\nQ 71.09375 17.671875 61.125 8.828125 \r\nQ 51.171875 0 30.078125 0 \r\nL 9.8125 0 \r\nz\r\n\" id=\"DejaVuSans-68\"/>\r\n       <path d=\"M 45.40625 27.984375 \r\nQ 45.40625 37.75 41.375 43.109375 \r\nQ 37.359375 48.484375 30.078125 48.484375 \r\nQ 22.859375 48.484375 18.828125 43.109375 \r\nQ 14.796875 37.75 14.796875 27.984375 \r\nQ 14.796875 18.265625 18.828125 12.890625 \r\nQ 22.859375 7.515625 30.078125 7.515625 \r\nQ 37.359375 7.515625 41.375 12.890625 \r\nQ 45.40625 18.265625 45.40625 27.984375 \r\nz\r\nM 54.390625 6.78125 \r\nQ 54.390625 -7.171875 48.1875 -13.984375 \r\nQ 42 -20.796875 29.203125 -20.796875 \r\nQ 24.46875 -20.796875 20.265625 -20.09375 \r\nQ 16.0625 -19.390625 12.109375 -17.921875 \r\nL 12.109375 -9.1875 \r\nQ 16.0625 -11.328125 19.921875 -12.34375 \r\nQ 23.78125 -13.375 27.78125 -13.375 \r\nQ 36.625 -13.375 41.015625 -8.765625 \r\nQ 45.40625 -4.15625 45.40625 5.171875 \r\nL 45.40625 9.625 \r\nQ 42.625 4.78125 38.28125 2.390625 \r\nQ 33.9375 0 27.875 0 \r\nQ 17.828125 0 11.671875 7.65625 \r\nQ 5.515625 15.328125 5.515625 27.984375 \r\nQ 5.515625 40.671875 11.671875 48.328125 \r\nQ 17.828125 56 27.875 56 \r\nQ 33.9375 56 38.28125 53.609375 \r\nQ 42.625 51.21875 45.40625 46.390625 \r\nL 45.40625 54.6875 \r\nL 54.390625 54.6875 \r\nz\r\n\" id=\"DejaVuSans-103\"/>\r\n       <path d=\"M 30.609375 48.390625 \r\nQ 23.390625 48.390625 19.1875 42.75 \r\nQ 14.984375 37.109375 14.984375 27.296875 \r\nQ 14.984375 17.484375 19.15625 11.84375 \r\nQ 23.34375 6.203125 30.609375 6.203125 \r\nQ 37.796875 6.203125 41.984375 11.859375 \r\nQ 46.1875 17.53125 46.1875 27.296875 \r\nQ 46.1875 37.015625 41.984375 42.703125 \r\nQ 37.796875 48.390625 30.609375 48.390625 \r\nz\r\nM 30.609375 56 \r\nQ 42.328125 56 49.015625 48.375 \r\nQ 55.71875 40.765625 55.71875 27.296875 \r\nQ 55.71875 13.875 49.015625 6.21875 \r\nQ 42.328125 -1.421875 30.609375 -1.421875 \r\nQ 18.84375 -1.421875 12.171875 6.21875 \r\nQ 5.515625 13.875 5.515625 27.296875 \r\nQ 5.515625 40.765625 12.171875 48.375 \r\nQ 18.84375 56 30.609375 56 \r\nz\r\n\" id=\"DejaVuSans-111\"/>\r\n       <path d=\"M 54.890625 33.015625 \r\nL 54.890625 0 \r\nL 45.90625 0 \r\nL 45.90625 32.71875 \r\nQ 45.90625 40.484375 42.875 44.328125 \r\nQ 39.84375 48.1875 33.796875 48.1875 \r\nQ 26.515625 48.1875 22.3125 43.546875 \r\nQ 18.109375 38.921875 18.109375 30.90625 \r\nL 18.109375 0 \r\nL 9.078125 0 \r\nL 9.078125 54.6875 \r\nL 18.109375 54.6875 \r\nL 18.109375 46.1875 \r\nQ 21.34375 51.125 25.703125 53.5625 \r\nQ 30.078125 56 35.796875 56 \r\nQ 45.21875 56 50.046875 50.171875 \r\nQ 54.890625 44.34375 54.890625 33.015625 \r\nz\r\n\" id=\"DejaVuSans-110\"/>\r\n      </defs>\r\n      <g transform=\"translate(311.061876 287.511931)rotate(-60)scale(0.1 -0.1)\">\r\n       <use xlink:href=\"#DejaVuSans-68\"/>\r\n       <use x=\"77.001953\" xlink:href=\"#DejaVuSans-114\"/>\r\n       <use x=\"118.115234\" xlink:href=\"#DejaVuSans-97\"/>\r\n       <use x=\"179.394531\" xlink:href=\"#DejaVuSans-103\"/>\r\n       <use x=\"242.871094\" xlink:href=\"#DejaVuSans-111\"/>\r\n       <use x=\"304.052734\" xlink:href=\"#DejaVuSans-110\"/>\r\n      </g>\r\n     </g>\r\n    </g>\r\n    <g id=\"xtick_5\">\r\n     <g id=\"line2d_5\">\r\n      <g>\r\n       <use style=\"stroke:#000000;stroke-width:0.8;\" x=\"393.438125\" xlink:href=\"#ma0dd661e64\" y=\"244.891691\"/>\r\n      </g>\r\n     </g>\r\n     <g id=\"text_5\">\r\n      <!-- Ice -->\r\n      <defs>\r\n       <path d=\"M 9.8125 72.90625 \r\nL 19.671875 72.90625 \r\nL 19.671875 0 \r\nL 9.8125 0 \r\nz\r\n\" id=\"DejaVuSans-73\"/>\r\n       <path d=\"M 48.78125 52.59375 \r\nL 48.78125 44.1875 \r\nQ 44.96875 46.296875 41.140625 47.34375 \r\nQ 37.3125 48.390625 33.40625 48.390625 \r\nQ 24.65625 48.390625 19.8125 42.84375 \r\nQ 14.984375 37.3125 14.984375 27.296875 \r\nQ 14.984375 17.28125 19.8125 11.734375 \r\nQ 24.65625 6.203125 33.40625 6.203125 \r\nQ 37.3125 6.203125 41.140625 7.25 \r\nQ 44.96875 8.296875 48.78125 10.40625 \r\nL 48.78125 2.09375 \r\nQ 45.015625 0.34375 40.984375 -0.53125 \r\nQ 36.96875 -1.421875 32.421875 -1.421875 \r\nQ 20.0625 -1.421875 12.78125 6.34375 \r\nQ 5.515625 14.109375 5.515625 27.296875 \r\nQ 5.515625 40.671875 12.859375 48.328125 \r\nQ 20.21875 56 33.015625 56 \r\nQ 37.15625 56 41.109375 55.140625 \r\nQ 45.0625 54.296875 48.78125 52.59375 \r\nz\r\n\" id=\"DejaVuSans-99\"/>\r\n      </defs>\r\n      <g transform=\"translate(392.177423 268.336234)rotate(-60)scale(0.1 -0.1)\">\r\n       <use xlink:href=\"#DejaVuSans-73\"/>\r\n       <use x=\"29.492188\" xlink:href=\"#DejaVuSans-99\"/>\r\n       <use x=\"84.472656\" xlink:href=\"#DejaVuSans-101\"/>\r\n      </g>\r\n     </g>\r\n    </g>\r\n   </g>\r\n   <g id=\"matplotlib.axis_2\">\r\n    <g id=\"ytick_1\">\r\n     <g id=\"line2d_6\">\r\n      <defs>\r\n       <path d=\"M 0 0 \r\nL -3.5 0 \r\n\" id=\"m13f5cad360\" style=\"stroke:#000000;stroke-width:0.8;\"/>\r\n      </defs>\r\n      <g>\r\n       <use style=\"stroke:#000000;stroke-width:0.8;\" x=\"53.328125\" xlink:href=\"#m13f5cad360\" y=\"244.891691\"/>\r\n      </g>\r\n     </g>\r\n     <g id=\"text_6\">\r\n      <!-- 0 -->\r\n      <defs>\r\n       <path d=\"M 31.78125 66.40625 \r\nQ 24.171875 66.40625 20.328125 58.90625 \r\nQ 16.5 51.421875 16.5 36.375 \r\nQ 16.5 21.390625 20.328125 13.890625 \r\nQ 24.171875 6.390625 31.78125 6.390625 \r\nQ 39.453125 6.390625 43.28125 13.890625 \r\nQ 47.125 21.390625 47.125 36.375 \r\nQ 47.125 51.421875 43.28125 58.90625 \r\nQ 39.453125 66.40625 31.78125 66.40625 \r\nz\r\nM 31.78125 74.21875 \r\nQ 44.046875 74.21875 50.515625 64.515625 \r\nQ 56.984375 54.828125 56.984375 36.375 \r\nQ 56.984375 17.96875 50.515625 8.265625 \r\nQ 44.046875 -1.421875 31.78125 -1.421875 \r\nQ 19.53125 -1.421875 13.0625 8.265625 \r\nQ 6.59375 17.96875 6.59375 36.375 \r\nQ 6.59375 54.828125 13.0625 64.515625 \r\nQ 19.53125 74.21875 31.78125 74.21875 \r\nz\r\n\" id=\"DejaVuSans-48\"/>\r\n      </defs>\r\n      <g transform=\"translate(39.965625 248.69091)scale(0.1 -0.1)\">\r\n       <use xlink:href=\"#DejaVuSans-48\"/>\r\n      </g>\r\n     </g>\r\n    </g>\r\n    <g id=\"ytick_2\">\r\n     <g id=\"line2d_7\">\r\n      <g>\r\n       <use style=\"stroke:#000000;stroke-width:0.8;\" x=\"53.328125\" xlink:href=\"#m13f5cad360\" y=\"199.564026\"/>\r\n      </g>\r\n     </g>\r\n     <g id=\"text_7\">\r\n      <!-- 2000 -->\r\n      <defs>\r\n       <path d=\"M 19.1875 8.296875 \r\nL 53.609375 8.296875 \r\nL 53.609375 0 \r\nL 7.328125 0 \r\nL 7.328125 8.296875 \r\nQ 12.9375 14.109375 22.625 23.890625 \r\nQ 32.328125 33.6875 34.8125 36.53125 \r\nQ 39.546875 41.84375 41.421875 45.53125 \r\nQ 43.3125 49.21875 43.3125 52.78125 \r\nQ 43.3125 58.59375 39.234375 62.25 \r\nQ 35.15625 65.921875 28.609375 65.921875 \r\nQ 23.96875 65.921875 18.8125 64.3125 \r\nQ 13.671875 62.703125 7.8125 59.421875 \r\nL 7.8125 69.390625 \r\nQ 13.765625 71.78125 18.9375 73 \r\nQ 24.125 74.21875 28.421875 74.21875 \r\nQ 39.75 74.21875 46.484375 68.546875 \r\nQ 53.21875 62.890625 53.21875 53.421875 \r\nQ 53.21875 48.921875 51.53125 44.890625 \r\nQ 49.859375 40.875 45.40625 35.40625 \r\nQ 44.1875 33.984375 37.640625 27.21875 \r\nQ 31.109375 20.453125 19.1875 8.296875 \r\nz\r\n\" id=\"DejaVuSans-50\"/>\r\n      </defs>\r\n      <g transform=\"translate(20.878125 203.363245)scale(0.1 -0.1)\">\r\n       <use xlink:href=\"#DejaVuSans-50\"/>\r\n       <use x=\"63.623047\" xlink:href=\"#DejaVuSans-48\"/>\r\n       <use x=\"127.246094\" xlink:href=\"#DejaVuSans-48\"/>\r\n       <use x=\"190.869141\" xlink:href=\"#DejaVuSans-48\"/>\r\n      </g>\r\n     </g>\r\n    </g>\r\n    <g id=\"ytick_3\">\r\n     <g id=\"line2d_8\">\r\n      <g>\r\n       <use style=\"stroke:#000000;stroke-width:0.8;\" x=\"53.328125\" xlink:href=\"#m13f5cad360\" y=\"154.236362\"/>\r\n      </g>\r\n     </g>\r\n     <g id=\"text_8\">\r\n      <!-- 4000 -->\r\n      <defs>\r\n       <path d=\"M 37.796875 64.3125 \r\nL 12.890625 25.390625 \r\nL 37.796875 25.390625 \r\nz\r\nM 35.203125 72.90625 \r\nL 47.609375 72.90625 \r\nL 47.609375 25.390625 \r\nL 58.015625 25.390625 \r\nL 58.015625 17.1875 \r\nL 47.609375 17.1875 \r\nL 47.609375 0 \r\nL 37.796875 0 \r\nL 37.796875 17.1875 \r\nL 4.890625 17.1875 \r\nL 4.890625 26.703125 \r\nz\r\n\" id=\"DejaVuSans-52\"/>\r\n      </defs>\r\n      <g transform=\"translate(20.878125 158.03558)scale(0.1 -0.1)\">\r\n       <use xlink:href=\"#DejaVuSans-52\"/>\r\n       <use x=\"63.623047\" xlink:href=\"#DejaVuSans-48\"/>\r\n       <use x=\"127.246094\" xlink:href=\"#DejaVuSans-48\"/>\r\n       <use x=\"190.869141\" xlink:href=\"#DejaVuSans-48\"/>\r\n      </g>\r\n     </g>\r\n    </g>\r\n    <g id=\"ytick_4\">\r\n     <g id=\"line2d_9\">\r\n      <g>\r\n       <use style=\"stroke:#000000;stroke-width:0.8;\" x=\"53.328125\" xlink:href=\"#m13f5cad360\" y=\"108.908697\"/>\r\n      </g>\r\n     </g>\r\n     <g id=\"text_9\">\r\n      <!-- 6000 -->\r\n      <defs>\r\n       <path d=\"M 33.015625 40.375 \r\nQ 26.375 40.375 22.484375 35.828125 \r\nQ 18.609375 31.296875 18.609375 23.390625 \r\nQ 18.609375 15.53125 22.484375 10.953125 \r\nQ 26.375 6.390625 33.015625 6.390625 \r\nQ 39.65625 6.390625 43.53125 10.953125 \r\nQ 47.40625 15.53125 47.40625 23.390625 \r\nQ 47.40625 31.296875 43.53125 35.828125 \r\nQ 39.65625 40.375 33.015625 40.375 \r\nz\r\nM 52.59375 71.296875 \r\nL 52.59375 62.3125 \r\nQ 48.875 64.0625 45.09375 64.984375 \r\nQ 41.3125 65.921875 37.59375 65.921875 \r\nQ 27.828125 65.921875 22.671875 59.328125 \r\nQ 17.53125 52.734375 16.796875 39.40625 \r\nQ 19.671875 43.65625 24.015625 45.921875 \r\nQ 28.375 48.1875 33.59375 48.1875 \r\nQ 44.578125 48.1875 50.953125 41.515625 \r\nQ 57.328125 34.859375 57.328125 23.390625 \r\nQ 57.328125 12.15625 50.6875 5.359375 \r\nQ 44.046875 -1.421875 33.015625 -1.421875 \r\nQ 20.359375 -1.421875 13.671875 8.265625 \r\nQ 6.984375 17.96875 6.984375 36.375 \r\nQ 6.984375 53.65625 15.1875 63.9375 \r\nQ 23.390625 74.21875 37.203125 74.21875 \r\nQ 40.921875 74.21875 44.703125 73.484375 \r\nQ 48.484375 72.75 52.59375 71.296875 \r\nz\r\n\" id=\"DejaVuSans-54\"/>\r\n      </defs>\r\n      <g transform=\"translate(20.878125 112.707915)scale(0.1 -0.1)\">\r\n       <use xlink:href=\"#DejaVuSans-54\"/>\r\n       <use x=\"63.623047\" xlink:href=\"#DejaVuSans-48\"/>\r\n       <use x=\"127.246094\" xlink:href=\"#DejaVuSans-48\"/>\r\n       <use x=\"190.869141\" xlink:href=\"#DejaVuSans-48\"/>\r\n      </g>\r\n     </g>\r\n    </g>\r\n    <g id=\"ytick_5\">\r\n     <g id=\"line2d_10\">\r\n      <g>\r\n       <use style=\"stroke:#000000;stroke-width:0.8;\" x=\"53.328125\" xlink:href=\"#m13f5cad360\" y=\"63.581032\"/>\r\n      </g>\r\n     </g>\r\n     <g id=\"text_10\">\r\n      <!-- 8000 -->\r\n      <defs>\r\n       <path d=\"M 31.78125 34.625 \r\nQ 24.75 34.625 20.71875 30.859375 \r\nQ 16.703125 27.09375 16.703125 20.515625 \r\nQ 16.703125 13.921875 20.71875 10.15625 \r\nQ 24.75 6.390625 31.78125 6.390625 \r\nQ 38.8125 6.390625 42.859375 10.171875 \r\nQ 46.921875 13.96875 46.921875 20.515625 \r\nQ 46.921875 27.09375 42.890625 30.859375 \r\nQ 38.875 34.625 31.78125 34.625 \r\nz\r\nM 21.921875 38.8125 \r\nQ 15.578125 40.375 12.03125 44.71875 \r\nQ 8.5 49.078125 8.5 55.328125 \r\nQ 8.5 64.0625 14.71875 69.140625 \r\nQ 20.953125 74.21875 31.78125 74.21875 \r\nQ 42.671875 74.21875 48.875 69.140625 \r\nQ 55.078125 64.0625 55.078125 55.328125 \r\nQ 55.078125 49.078125 51.53125 44.71875 \r\nQ 48 40.375 41.703125 38.8125 \r\nQ 48.828125 37.15625 52.796875 32.3125 \r\nQ 56.78125 27.484375 56.78125 20.515625 \r\nQ 56.78125 9.90625 50.3125 4.234375 \r\nQ 43.84375 -1.421875 31.78125 -1.421875 \r\nQ 19.734375 -1.421875 13.25 4.234375 \r\nQ 6.78125 9.90625 6.78125 20.515625 \r\nQ 6.78125 27.484375 10.78125 32.3125 \r\nQ 14.796875 37.15625 21.921875 38.8125 \r\nz\r\nM 18.3125 54.390625 \r\nQ 18.3125 48.734375 21.84375 45.5625 \r\nQ 25.390625 42.390625 31.78125 42.390625 \r\nQ 38.140625 42.390625 41.71875 45.5625 \r\nQ 45.3125 48.734375 45.3125 54.390625 \r\nQ 45.3125 60.0625 41.71875 63.234375 \r\nQ 38.140625 66.40625 31.78125 66.40625 \r\nQ 25.390625 66.40625 21.84375 63.234375 \r\nQ 18.3125 60.0625 18.3125 54.390625 \r\nz\r\n\" id=\"DejaVuSans-56\"/>\r\n      </defs>\r\n      <g transform=\"translate(20.878125 67.38025)scale(0.1 -0.1)\">\r\n       <use xlink:href=\"#DejaVuSans-56\"/>\r\n       <use x=\"63.623047\" xlink:href=\"#DejaVuSans-48\"/>\r\n       <use x=\"127.246094\" xlink:href=\"#DejaVuSans-48\"/>\r\n       <use x=\"190.869141\" xlink:href=\"#DejaVuSans-48\"/>\r\n      </g>\r\n     </g>\r\n    </g>\r\n    <g id=\"text_11\">\r\n     <!-- Total Number of Pokemon -->\r\n     <defs>\r\n      <path d=\"M -0.296875 72.90625 \r\nL 61.375 72.90625 \r\nL 61.375 64.59375 \r\nL 35.5 64.59375 \r\nL 35.5 0 \r\nL 25.59375 0 \r\nL 25.59375 64.59375 \r\nL -0.296875 64.59375 \r\nz\r\n\" id=\"DejaVuSans-84\"/>\r\n      <path d=\"M 18.3125 70.21875 \r\nL 18.3125 54.6875 \r\nL 36.8125 54.6875 \r\nL 36.8125 47.703125 \r\nL 18.3125 47.703125 \r\nL 18.3125 18.015625 \r\nQ 18.3125 11.328125 20.140625 9.421875 \r\nQ 21.96875 7.515625 27.59375 7.515625 \r\nL 36.8125 7.515625 \r\nL 36.8125 0 \r\nL 27.59375 0 \r\nQ 17.1875 0 13.234375 3.875 \r\nQ 9.28125 7.765625 9.28125 18.015625 \r\nL 9.28125 47.703125 \r\nL 2.6875 47.703125 \r\nL 2.6875 54.6875 \r\nL 9.28125 54.6875 \r\nL 9.28125 70.21875 \r\nz\r\n\" id=\"DejaVuSans-116\"/>\r\n      <path d=\"M 9.421875 75.984375 \r\nL 18.40625 75.984375 \r\nL 18.40625 0 \r\nL 9.421875 0 \r\nz\r\n\" id=\"DejaVuSans-108\"/>\r\n      <path id=\"DejaVuSans-32\"/>\r\n      <path d=\"M 9.8125 72.90625 \r\nL 23.09375 72.90625 \r\nL 55.421875 11.921875 \r\nL 55.421875 72.90625 \r\nL 64.984375 72.90625 \r\nL 64.984375 0 \r\nL 51.703125 0 \r\nL 19.390625 60.984375 \r\nL 19.390625 0 \r\nL 9.8125 0 \r\nz\r\n\" id=\"DejaVuSans-78\"/>\r\n      <path d=\"M 8.5 21.578125 \r\nL 8.5 54.6875 \r\nL 17.484375 54.6875 \r\nL 17.484375 21.921875 \r\nQ 17.484375 14.15625 20.5 10.265625 \r\nQ 23.53125 6.390625 29.59375 6.390625 \r\nQ 36.859375 6.390625 41.078125 11.03125 \r\nQ 45.3125 15.671875 45.3125 23.6875 \r\nL 45.3125 54.6875 \r\nL 54.296875 54.6875 \r\nL 54.296875 0 \r\nL 45.3125 0 \r\nL 45.3125 8.40625 \r\nQ 42.046875 3.421875 37.71875 1 \r\nQ 33.40625 -1.421875 27.6875 -1.421875 \r\nQ 18.265625 -1.421875 13.375 4.4375 \r\nQ 8.5 10.296875 8.5 21.578125 \r\nz\r\nM 31.109375 56 \r\nz\r\n\" id=\"DejaVuSans-117\"/>\r\n      <path d=\"M 52 44.1875 \r\nQ 55.375 50.25 60.0625 53.125 \r\nQ 64.75 56 71.09375 56 \r\nQ 79.640625 56 84.28125 50.015625 \r\nQ 88.921875 44.046875 88.921875 33.015625 \r\nL 88.921875 0 \r\nL 79.890625 0 \r\nL 79.890625 32.71875 \r\nQ 79.890625 40.578125 77.09375 44.375 \r\nQ 74.3125 48.1875 68.609375 48.1875 \r\nQ 61.625 48.1875 57.5625 43.546875 \r\nQ 53.515625 38.921875 53.515625 30.90625 \r\nL 53.515625 0 \r\nL 44.484375 0 \r\nL 44.484375 32.71875 \r\nQ 44.484375 40.625 41.703125 44.40625 \r\nQ 38.921875 48.1875 33.109375 48.1875 \r\nQ 26.21875 48.1875 22.15625 43.53125 \r\nQ 18.109375 38.875 18.109375 30.90625 \r\nL 18.109375 0 \r\nL 9.078125 0 \r\nL 9.078125 54.6875 \r\nL 18.109375 54.6875 \r\nL 18.109375 46.1875 \r\nQ 21.1875 51.21875 25.484375 53.609375 \r\nQ 29.78125 56 35.6875 56 \r\nQ 41.65625 56 45.828125 52.96875 \r\nQ 50 49.953125 52 44.1875 \r\nz\r\n\" id=\"DejaVuSans-109\"/>\r\n      <path d=\"M 48.6875 27.296875 \r\nQ 48.6875 37.203125 44.609375 42.84375 \r\nQ 40.53125 48.484375 33.40625 48.484375 \r\nQ 26.265625 48.484375 22.1875 42.84375 \r\nQ 18.109375 37.203125 18.109375 27.296875 \r\nQ 18.109375 17.390625 22.1875 11.75 \r\nQ 26.265625 6.109375 33.40625 6.109375 \r\nQ 40.53125 6.109375 44.609375 11.75 \r\nQ 48.6875 17.390625 48.6875 27.296875 \r\nz\r\nM 18.109375 46.390625 \r\nQ 20.953125 51.265625 25.265625 53.625 \r\nQ 29.59375 56 35.59375 56 \r\nQ 45.5625 56 51.78125 48.09375 \r\nQ 58.015625 40.1875 58.015625 27.296875 \r\nQ 58.015625 14.40625 51.78125 6.484375 \r\nQ 45.5625 -1.421875 35.59375 -1.421875 \r\nQ 29.59375 -1.421875 25.265625 0.953125 \r\nQ 20.953125 3.328125 18.109375 8.203125 \r\nL 18.109375 0 \r\nL 9.078125 0 \r\nL 9.078125 75.984375 \r\nL 18.109375 75.984375 \r\nz\r\n\" id=\"DejaVuSans-98\"/>\r\n      <path d=\"M 37.109375 75.984375 \r\nL 37.109375 68.5 \r\nL 28.515625 68.5 \r\nQ 23.6875 68.5 21.796875 66.546875 \r\nQ 19.921875 64.59375 19.921875 59.515625 \r\nL 19.921875 54.6875 \r\nL 34.71875 54.6875 \r\nL 34.71875 47.703125 \r\nL 19.921875 47.703125 \r\nL 19.921875 0 \r\nL 10.890625 0 \r\nL 10.890625 47.703125 \r\nL 2.296875 47.703125 \r\nL 2.296875 54.6875 \r\nL 10.890625 54.6875 \r\nL 10.890625 58.5 \r\nQ 10.890625 67.625 15.140625 71.796875 \r\nQ 19.390625 75.984375 28.609375 75.984375 \r\nz\r\n\" id=\"DejaVuSans-102\"/>\r\n      <path d=\"M 19.671875 64.796875 \r\nL 19.671875 37.40625 \r\nL 32.078125 37.40625 \r\nQ 38.96875 37.40625 42.71875 40.96875 \r\nQ 46.484375 44.53125 46.484375 51.125 \r\nQ 46.484375 57.671875 42.71875 61.234375 \r\nQ 38.96875 64.796875 32.078125 64.796875 \r\nz\r\nM 9.8125 72.90625 \r\nL 32.078125 72.90625 \r\nQ 44.34375 72.90625 50.609375 67.359375 \r\nQ 56.890625 61.8125 56.890625 51.125 \r\nQ 56.890625 40.328125 50.609375 34.8125 \r\nQ 44.34375 29.296875 32.078125 29.296875 \r\nL 19.671875 29.296875 \r\nL 19.671875 0 \r\nL 9.8125 0 \r\nz\r\n\" id=\"DejaVuSans-80\"/>\r\n      <path d=\"M 9.078125 75.984375 \r\nL 18.109375 75.984375 \r\nL 18.109375 31.109375 \r\nL 44.921875 54.6875 \r\nL 56.390625 54.6875 \r\nL 27.390625 29.109375 \r\nL 57.625 0 \r\nL 45.90625 0 \r\nL 18.109375 26.703125 \r\nL 18.109375 0 \r\nL 9.078125 0 \r\nz\r\n\" id=\"DejaVuSans-107\"/>\r\n     </defs>\r\n     <g transform=\"translate(14.798438 197.736158)rotate(-90)scale(0.1 -0.1)\">\r\n      <use xlink:href=\"#DejaVuSans-84\"/>\r\n      <use x=\"44.083984\" xlink:href=\"#DejaVuSans-111\"/>\r\n      <use x=\"105.265625\" xlink:href=\"#DejaVuSans-116\"/>\r\n      <use x=\"144.474609\" xlink:href=\"#DejaVuSans-97\"/>\r\n      <use x=\"205.753906\" xlink:href=\"#DejaVuSans-108\"/>\r\n      <use x=\"233.537109\" xlink:href=\"#DejaVuSans-32\"/>\r\n      <use x=\"265.324219\" xlink:href=\"#DejaVuSans-78\"/>\r\n      <use x=\"340.128906\" xlink:href=\"#DejaVuSans-117\"/>\r\n      <use x=\"403.507812\" xlink:href=\"#DejaVuSans-109\"/>\r\n      <use x=\"500.919922\" xlink:href=\"#DejaVuSans-98\"/>\r\n      <use x=\"564.396484\" xlink:href=\"#DejaVuSans-101\"/>\r\n      <use x=\"625.919922\" xlink:href=\"#DejaVuSans-114\"/>\r\n      <use x=\"667.033203\" xlink:href=\"#DejaVuSans-32\"/>\r\n      <use x=\"698.820312\" xlink:href=\"#DejaVuSans-111\"/>\r\n      <use x=\"760.001953\" xlink:href=\"#DejaVuSans-102\"/>\r\n      <use x=\"795.207031\" xlink:href=\"#DejaVuSans-32\"/>\r\n      <use x=\"826.994141\" xlink:href=\"#DejaVuSans-80\"/>\r\n      <use x=\"883.671875\" xlink:href=\"#DejaVuSans-111\"/>\r\n      <use x=\"944.853516\" xlink:href=\"#DejaVuSans-107\"/>\r\n      <use x=\"999.138672\" xlink:href=\"#DejaVuSans-101\"/>\r\n      <use x=\"1060.662109\" xlink:href=\"#DejaVuSans-109\"/>\r\n      <use x=\"1158.074219\" xlink:href=\"#DejaVuSans-111\"/>\r\n      <use x=\"1219.255859\" xlink:href=\"#DejaVuSans-110\"/>\r\n     </g>\r\n    </g>\r\n   </g>\r\n   <g id=\"patch_8\">\r\n    <path d=\"M 53.328125 244.891691 \r\nL 53.328125 22.318125 \r\n\" style=\"fill:none;stroke:#000000;stroke-linecap:square;stroke-linejoin:miter;stroke-width:0.8;\"/>\r\n   </g>\r\n   <g id=\"patch_9\">\r\n    <path d=\"M 431.228125 244.891691 \r\nL 431.228125 22.318125 \r\n\" style=\"fill:none;stroke:#000000;stroke-linecap:square;stroke-linejoin:miter;stroke-width:0.8;\"/>\r\n   </g>\r\n   <g id=\"patch_10\">\r\n    <path d=\"M 53.328125 244.891691 \r\nL 431.228125 244.891691 \r\n\" style=\"fill:none;stroke:#000000;stroke-linecap:square;stroke-linejoin:miter;stroke-width:0.8;\"/>\r\n   </g>\r\n   <g id=\"patch_11\">\r\n    <path d=\"M 53.328125 22.318125 \r\nL 431.228125 22.318125 \r\n\" style=\"fill:none;stroke:#000000;stroke-linecap:square;stroke-linejoin:miter;stroke-width:0.8;\"/>\r\n   </g>\r\n   <g id=\"text_12\">\r\n    <!-- Number of Pokemon by Type -->\r\n    <defs>\r\n     <path d=\"M 18.109375 8.203125 \r\nL 18.109375 -20.796875 \r\nL 9.078125 -20.796875 \r\nL 9.078125 54.6875 \r\nL 18.109375 54.6875 \r\nL 18.109375 46.390625 \r\nQ 20.953125 51.265625 25.265625 53.625 \r\nQ 29.59375 56 35.59375 56 \r\nQ 45.5625 56 51.78125 48.09375 \r\nQ 58.015625 40.1875 58.015625 27.296875 \r\nQ 58.015625 14.40625 51.78125 6.484375 \r\nQ 45.5625 -1.421875 35.59375 -1.421875 \r\nQ 29.59375 -1.421875 25.265625 0.953125 \r\nQ 20.953125 3.328125 18.109375 8.203125 \r\nz\r\nM 48.6875 27.296875 \r\nQ 48.6875 37.203125 44.609375 42.84375 \r\nQ 40.53125 48.484375 33.40625 48.484375 \r\nQ 26.265625 48.484375 22.1875 42.84375 \r\nQ 18.109375 37.203125 18.109375 27.296875 \r\nQ 18.109375 17.390625 22.1875 11.75 \r\nQ 26.265625 6.109375 33.40625 6.109375 \r\nQ 40.53125 6.109375 44.609375 11.75 \r\nQ 48.6875 17.390625 48.6875 27.296875 \r\nz\r\n\" id=\"DejaVuSans-112\"/>\r\n    </defs>\r\n    <g transform=\"translate(156.285937 16.318125)scale(0.12 -0.12)\">\r\n     <use xlink:href=\"#DejaVuSans-78\"/>\r\n     <use x=\"74.804688\" xlink:href=\"#DejaVuSans-117\"/>\r\n     <use x=\"138.183594\" xlink:href=\"#DejaVuSans-109\"/>\r\n     <use x=\"235.595703\" xlink:href=\"#DejaVuSans-98\"/>\r\n     <use x=\"299.072266\" xlink:href=\"#DejaVuSans-101\"/>\r\n     <use x=\"360.595703\" xlink:href=\"#DejaVuSans-114\"/>\r\n     <use x=\"401.708984\" xlink:href=\"#DejaVuSans-32\"/>\r\n     <use x=\"433.496094\" xlink:href=\"#DejaVuSans-111\"/>\r\n     <use x=\"494.677734\" xlink:href=\"#DejaVuSans-102\"/>\r\n     <use x=\"529.882812\" xlink:href=\"#DejaVuSans-32\"/>\r\n     <use x=\"561.669922\" xlink:href=\"#DejaVuSans-80\"/>\r\n     <use x=\"618.347656\" xlink:href=\"#DejaVuSans-111\"/>\r\n     <use x=\"679.529297\" xlink:href=\"#DejaVuSans-107\"/>\r\n     <use x=\"733.814453\" xlink:href=\"#DejaVuSans-101\"/>\r\n     <use x=\"795.337891\" xlink:href=\"#DejaVuSans-109\"/>\r\n     <use x=\"892.75\" xlink:href=\"#DejaVuSans-111\"/>\r\n     <use x=\"953.931641\" xlink:href=\"#DejaVuSans-110\"/>\r\n     <use x=\"1017.310547\" xlink:href=\"#DejaVuSans-32\"/>\r\n     <use x=\"1049.097656\" xlink:href=\"#DejaVuSans-98\"/>\r\n     <use x=\"1112.574219\" xlink:href=\"#DejaVuSans-121\"/>\r\n     <use x=\"1171.753906\" xlink:href=\"#DejaVuSans-32\"/>\r\n     <use x=\"1203.541016\" xlink:href=\"#DejaVuSans-84\"/>\r\n     <use x=\"1249\" xlink:href=\"#DejaVuSans-121\"/>\r\n     <use x=\"1308.179688\" xlink:href=\"#DejaVuSans-112\"/>\r\n     <use x=\"1371.65625\" xlink:href=\"#DejaVuSans-101\"/>\r\n    </g>\r\n   </g>\r\n  </g>\r\n </g>\r\n <defs>\r\n  <clipPath id=\"pf5ee092f8a\">\r\n   <rect height=\"222.573566\" width=\"377.9\" x=\"53.328125\" y=\"22.318125\"/>\r\n  </clipPath>\r\n </defs>\r\n</svg>\r\n",
      "image/png": "[encoded data removed]"
     },
     "metadata": {
      "needs_background": "light"
     }
    },
    {
     "output_type": "execute_result",
     "data": {
      "text/plain": [
       "Grass     9353\n",
       "Fire      8067\n",
       "Fairy     3406\n",
       "Dragon     697\n",
       "Ice        115\n",
       "Name: primary, dtype: int64"
      ]
     },
     "metadata": {},
     "execution_count": 28
    }
   ],
   "source": [
    "# Generate a bar plot showing the total number of measurements taken on each drug regimen using pandas.\n",
    "top5_df = cleaned_csv[cleaned_csv[\"primary\"].isin([\"Ice\",'Fire', 'Fairy', 'Grass', 'Dragon'])]\n",
    "counts_bar = top5_df[\"primary\"].value_counts()\n",
    "\n",
    "\n",
    "counts_bar.plot(kind=\"bar\", color=\"b\", rot=60)\n",
    "plt.tight_layout()\n",
    "plt.title(\"Number of Pokemon by Type\")\n",
    "plt.ylabel(\"Total Number of Pokemon\")\n",
    "plt.show()\n",
    "counts_bar.head(None)"
   ]
  },
  {
   "cell_type": "code",
   "execution_count": null,
   "metadata": {},
   "outputs": [],
   "source": []
  }
 ]
}