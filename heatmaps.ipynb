{
 "metadata": {
  "language_info": {
   "codemirror_mode": {
    "name": "ipython",
    "version": 3
   },
   "file_extension": ".py",
   "mimetype": "text/x-python",
   "name": "python",
   "nbconvert_exporter": "python",
   "pygments_lexer": "ipython3",
   "version": "3.6.10"
  },
  "orig_nbformat": 2,
  "kernelspec": {
   "name": "python3610jvsc74a57bd0b432461d0a0115d0c9d901da8da6cafa7da0264c25770543bb182d5a47b20b85",
   "display_name": "Python 3.6.10 64-bit ('PythonData': conda)"
  }
 },
 "nbformat": 4,
 "nbformat_minor": 2,
 "cells": [
  {
   "cell_type": "code",
   "execution_count": 2,
   "metadata": {},
   "outputs": [],
   "source": [
    "%matplotlib inline\n",
    "# Dependencies and Setup\n",
    "import matplotlib.pyplot as plt\n",
    "import pandas as pd\n",
    "import numpy as np\n",
    "import scipy.stats as st \n",
    "from scipy.stats import linregress\n",
    "import gmaps\n",
    "\n",
    "#Import API key\n",
    "from config import g_key\n"
   ]
  },
  {
   "cell_type": "code",
   "execution_count": 3,
   "metadata": {},
   "outputs": [
    {
     "output_type": "execute_result",
     "data": {
      "text/plain": [
       "             name  stamina  atk  def  capture_rate  flee_rate  spawn_chance  \\\n",
       "0       Bulbasaur       90  126  126          0.16       0.10          69.0   \n",
       "1       Bulbasaur       90  126  126          0.16       0.10          69.0   \n",
       "2       Bulbasaur       90  126  126          0.16       0.10          69.0   \n",
       "3       Bulbasaur       90  126  126          0.16       0.10          69.0   \n",
       "4       Bulbasaur       90  126  126          0.16       0.10          69.0   \n",
       "...           ...      ...  ...  ...           ...        ...           ...   \n",
       "281143  Dragonair      122  170  152          0.08       0.06           2.0   \n",
       "281144  Dragonair      122  170  152          0.08       0.06           2.0   \n",
       "281145  Dragonair      122  170  152          0.08       0.06           2.0   \n",
       "281146  Dragonair      122  170  152          0.08       0.06           2.0   \n",
       "281147  Dragonair      122  170  152          0.08       0.06           2.0   \n",
       "\n",
       "       primary secondary    cp  \\\n",
       "0        Grass    Poison  1079   \n",
       "1        Grass    Poison  1079   \n",
       "2        Grass    Poison  1079   \n",
       "3        Grass    Poison  1079   \n",
       "4        Grass    Poison  1079   \n",
       "...        ...       ...   ...   \n",
       "281143  Dragon       NaN  1760   \n",
       "281144  Dragon       NaN  1760   \n",
       "281145  Dragon       NaN  1760   \n",
       "281146  Dragon       NaN  1760   \n",
       "281147  Dragon       NaN  1760   \n",
       "\n",
       "                                                      url  \\\n",
       "0       http://cdn.bulbagarden.net/upload/thumb/2/21/0...   \n",
       "1       http://cdn.bulbagarden.net/upload/thumb/2/21/0...   \n",
       "2       http://cdn.bulbagarden.net/upload/thumb/2/21/0...   \n",
       "3       http://cdn.bulbagarden.net/upload/thumb/2/21/0...   \n",
       "4       http://cdn.bulbagarden.net/upload/thumb/2/21/0...   \n",
       "...                                                   ...   \n",
       "281143  http://cdn.bulbagarden.net/upload/thumb/9/93/1...   \n",
       "281144  http://cdn.bulbagarden.net/upload/thumb/9/93/1...   \n",
       "281145  http://cdn.bulbagarden.net/upload/thumb/9/93/1...   \n",
       "281146  http://cdn.bulbagarden.net/upload/thumb/9/93/1...   \n",
       "281147  http://cdn.bulbagarden.net/upload/thumb/9/93/1...   \n",
       "\n",
       "                      s2_id     s2_token  num        lat         lng  \\\n",
       "0      -9182898735737209000  808fca40de3    1  37.352721 -121.965752   \n",
       "1      -9182927600064922000  808fb000163    1  37.386986 -122.173674   \n",
       "2      -9182910327853941000  808fbfb5ca1    1  37.562587 -122.033978   \n",
       "3      -9182956200252146000  808f95fd6c5    1  37.577153 -122.082546   \n",
       "4      -9182984574953587000  808f7c2eb87    1  37.717652 -122.453226   \n",
       "...                     ...          ...  ...        ...         ...   \n",
       "281143 -9185790380451299000  8085845142b  148  37.860065 -122.485598   \n",
       "281144 -9185790380451299000  8085845142b  148  37.860065 -122.485598   \n",
       "281145 -9185794164317487000  808580e0793  148  37.806800 -122.423853   \n",
       "281146 -9185794164317487000  808580e0793  148  37.806800 -122.423853   \n",
       "281147 -9185794164317487000  808580e0793  148  37.806800 -122.423853   \n",
       "\n",
       "         encounter_ms    disppear_ms  \n",
       "0       1469520961740  1469520283284  \n",
       "1                  -1  1469520478385  \n",
       "2       1469522340772  1469521691605  \n",
       "3       1469522541812  1469521693152  \n",
       "4       1469522434748  1469521960685  \n",
       "...               ...            ...  \n",
       "281143  1469558403276  1469557938584  \n",
       "281144  1469558403276  1469557938645  \n",
       "281145  1469570699180  1469570176378  \n",
       "281146  1469570699180  1469570176379  \n",
       "281147  1469570699180  1469570176509  \n",
       "\n",
       "[281148 rows x 18 columns]"
      ],
      "text/html": "<div>\n<style scoped>\n    .dataframe tbody tr th:only-of-type {\n        vertical-align: middle;\n    }\n\n    .dataframe tbody tr th {\n        vertical-align: top;\n    }\n\n    .dataframe thead th {\n        text-align: right;\n    }\n</style>\n<table border=\"1\" class=\"dataframe\">\n  <thead>\n    <tr style=\"text-align: right;\">\n      <th></th>\n      <th>name</th>\n      <th>stamina</th>\n      <th>atk</th>\n      <th>def</th>\n      <th>capture_rate</th>\n      <th>flee_rate</th>\n      <th>spawn_chance</th>\n      <th>primary</th>\n      <th>secondary</th>\n      <th>cp</th>\n      <th>url</th>\n      <th>s2_id</th>\n      <th>s2_token</th>\n      <th>num</th>\n      <th>lat</th>\n      <th>lng</th>\n      <th>encounter_ms</th>\n      <th>disppear_ms</th>\n    </tr>\n  </thead>\n  <tbody>\n    <tr>\n      <th>0</th>\n      <td>Bulbasaur</td>\n      <td>90</td>\n      <td>126</td>\n      <td>126</td>\n      <td>0.16</td>\n      <td>0.10</td>\n      <td>69.0</td>\n      <td>Grass</td>\n      <td>Poison</td>\n      <td>1079</td>\n      <td>http://cdn.bulbagarden.net/upload/thumb/2/21/0...</td>\n      <td>-9182898735737209000</td>\n      <td>808fca40de3</td>\n      <td>1</td>\n      <td>37.352721</td>\n      <td>-121.965752</td>\n      <td>1469520961740</td>\n      <td>1469520283284</td>\n    </tr>\n    <tr>\n      <th>1</th>\n      <td>Bulbasaur</td>\n      <td>90</td>\n      <td>126</td>\n      <td>126</td>\n      <td>0.16</td>\n      <td>0.10</td>\n      <td>69.0</td>\n      <td>Grass</td>\n      <td>Poison</td>\n      <td>1079</td>\n      <td>http://cdn.bulbagarden.net/upload/thumb/2/21/0...</td>\n      <td>-9182927600064922000</td>\n      <td>808fb000163</td>\n      <td>1</td>\n      <td>37.386986</td>\n      <td>-122.173674</td>\n      <td>-1</td>\n      <td>1469520478385</td>\n    </tr>\n    <tr>\n      <th>2</th>\n      <td>Bulbasaur</td>\n      <td>90</td>\n      <td>126</td>\n      <td>126</td>\n      <td>0.16</td>\n      <td>0.10</td>\n      <td>69.0</td>\n      <td>Grass</td>\n      <td>Poison</td>\n      <td>1079</td>\n      <td>http://cdn.bulbagarden.net/upload/thumb/2/21/0...</td>\n      <td>-9182910327853941000</td>\n      <td>808fbfb5ca1</td>\n      <td>1</td>\n      <td>37.562587</td>\n      <td>-122.033978</td>\n      <td>1469522340772</td>\n      <td>1469521691605</td>\n    </tr>\n    <tr>\n      <th>3</th>\n      <td>Bulbasaur</td>\n      <td>90</td>\n      <td>126</td>\n      <td>126</td>\n      <td>0.16</td>\n      <td>0.10</td>\n      <td>69.0</td>\n      <td>Grass</td>\n      <td>Poison</td>\n      <td>1079</td>\n      <td>http://cdn.bulbagarden.net/upload/thumb/2/21/0...</td>\n      <td>-9182956200252146000</td>\n      <td>808f95fd6c5</td>\n      <td>1</td>\n      <td>37.577153</td>\n      <td>-122.082546</td>\n      <td>1469522541812</td>\n      <td>1469521693152</td>\n    </tr>\n    <tr>\n      <th>4</th>\n      <td>Bulbasaur</td>\n      <td>90</td>\n      <td>126</td>\n      <td>126</td>\n      <td>0.16</td>\n      <td>0.10</td>\n      <td>69.0</td>\n      <td>Grass</td>\n      <td>Poison</td>\n      <td>1079</td>\n      <td>http://cdn.bulbagarden.net/upload/thumb/2/21/0...</td>\n      <td>-9182984574953587000</td>\n      <td>808f7c2eb87</td>\n      <td>1</td>\n      <td>37.717652</td>\n      <td>-122.453226</td>\n      <td>1469522434748</td>\n      <td>1469521960685</td>\n    </tr>\n    <tr>\n      <th>...</th>\n      <td>...</td>\n      <td>...</td>\n      <td>...</td>\n      <td>...</td>\n      <td>...</td>\n      <td>...</td>\n      <td>...</td>\n      <td>...</td>\n      <td>...</td>\n      <td>...</td>\n      <td>...</td>\n      <td>...</td>\n      <td>...</td>\n      <td>...</td>\n      <td>...</td>\n      <td>...</td>\n      <td>...</td>\n      <td>...</td>\n    </tr>\n    <tr>\n      <th>281143</th>\n      <td>Dragonair</td>\n      <td>122</td>\n      <td>170</td>\n      <td>152</td>\n      <td>0.08</td>\n      <td>0.06</td>\n      <td>2.0</td>\n      <td>Dragon</td>\n      <td>NaN</td>\n      <td>1760</td>\n      <td>http://cdn.bulbagarden.net/upload/thumb/9/93/1...</td>\n      <td>-9185790380451299000</td>\n      <td>8085845142b</td>\n      <td>148</td>\n      <td>37.860065</td>\n      <td>-122.485598</td>\n      <td>1469558403276</td>\n      <td>1469557938584</td>\n    </tr>\n    <tr>\n      <th>281144</th>\n      <td>Dragonair</td>\n      <td>122</td>\n      <td>170</td>\n      <td>152</td>\n      <td>0.08</td>\n      <td>0.06</td>\n      <td>2.0</td>\n      <td>Dragon</td>\n      <td>NaN</td>\n      <td>1760</td>\n      <td>http://cdn.bulbagarden.net/upload/thumb/9/93/1...</td>\n      <td>-9185790380451299000</td>\n      <td>8085845142b</td>\n      <td>148</td>\n      <td>37.860065</td>\n      <td>-122.485598</td>\n      <td>1469558403276</td>\n      <td>1469557938645</td>\n    </tr>\n    <tr>\n      <th>281145</th>\n      <td>Dragonair</td>\n      <td>122</td>\n      <td>170</td>\n      <td>152</td>\n      <td>0.08</td>\n      <td>0.06</td>\n      <td>2.0</td>\n      <td>Dragon</td>\n      <td>NaN</td>\n      <td>1760</td>\n      <td>http://cdn.bulbagarden.net/upload/thumb/9/93/1...</td>\n      <td>-9185794164317487000</td>\n      <td>808580e0793</td>\n      <td>148</td>\n      <td>37.806800</td>\n      <td>-122.423853</td>\n      <td>1469570699180</td>\n      <td>1469570176378</td>\n    </tr>\n    <tr>\n      <th>281146</th>\n      <td>Dragonair</td>\n      <td>122</td>\n      <td>170</td>\n      <td>152</td>\n      <td>0.08</td>\n      <td>0.06</td>\n      <td>2.0</td>\n      <td>Dragon</td>\n      <td>NaN</td>\n      <td>1760</td>\n      <td>http://cdn.bulbagarden.net/upload/thumb/9/93/1...</td>\n      <td>-9185794164317487000</td>\n      <td>808580e0793</td>\n      <td>148</td>\n      <td>37.806800</td>\n      <td>-122.423853</td>\n      <td>1469570699180</td>\n      <td>1469570176379</td>\n    </tr>\n    <tr>\n      <th>281147</th>\n      <td>Dragonair</td>\n      <td>122</td>\n      <td>170</td>\n      <td>152</td>\n      <td>0.08</td>\n      <td>0.06</td>\n      <td>2.0</td>\n      <td>Dragon</td>\n      <td>NaN</td>\n      <td>1760</td>\n      <td>http://cdn.bulbagarden.net/upload/thumb/9/93/1...</td>\n      <td>-9185794164317487000</td>\n      <td>808580e0793</td>\n      <td>148</td>\n      <td>37.806800</td>\n      <td>-122.423853</td>\n      <td>1469570699180</td>\n      <td>1469570176509</td>\n    </tr>\n  </tbody>\n</table>\n<p>281148 rows × 18 columns</p>\n</div>"
     },
     "metadata": {},
     "execution_count": 3
    }
   ],
   "source": [
    "#Save from CSVs\n",
    "pk_go_csv = pd.read_csv(\"Resources/pkmn-go.csv\")\n",
    "poke_spawns = pd.read_csv(\"Resources/pokemon-spawns.csv\")\n",
    "\n",
    "merged_csv = pd.merge(pk_go_csv, poke_spawns, on=\"name\")\n",
    "merged_csv.head(None)\n",
    "\n",
    "cleaned_csv = merged_csv.drop_duplicates()\n",
    "\n",
    "cleaned_csv.reset_index(drop=True).head(None)"
   ]
  },
  {
   "cell_type": "code",
   "execution_count": 4,
   "metadata": {},
   "outputs": [
    {
     "output_type": "error",
     "ename": "NameError",
     "evalue": "name 'weights' is not defined",
     "traceback": [
      "\u001b[1;31m---------------------------------------------------------------------------\u001b[0m",
      "\u001b[1;31mNameError\u001b[0m                                 Traceback (most recent call last)",
      "\u001b[1;32m<ipython-input-4-e4f09f30c21a>\u001b[0m in \u001b[0;36m<module>\u001b[1;34m\u001b[0m\n\u001b[0;32m     22\u001b[0m \u001b[0mfig\u001b[0m\u001b[1;33m.\u001b[0m\u001b[0madd_layer\u001b[0m\u001b[1;33m(\u001b[0m\u001b[0mmarkers\u001b[0m\u001b[1;33m)\u001b[0m\u001b[1;33m\u001b[0m\u001b[1;33m\u001b[0m\u001b[0m\n\u001b[0;32m     23\u001b[0m \u001b[1;31m#Create Heatlayer\u001b[0m\u001b[1;33m\u001b[0m\u001b[1;33m\u001b[0m\u001b[1;33m\u001b[0m\u001b[0m\n\u001b[1;32m---> 24\u001b[1;33m \u001b[0mheat_layer\u001b[0m \u001b[1;33m=\u001b[0m \u001b[0mgmaps\u001b[0m\u001b[1;33m.\u001b[0m\u001b[0mheatmap_layer\u001b[0m\u001b[1;33m(\u001b[0m\u001b[0mlocations\u001b[0m\u001b[1;33m,\u001b[0m \u001b[0mweights\u001b[0m\u001b[1;33m,\u001b[0m \u001b[0mdissipating\u001b[0m\u001b[1;33m=\u001b[0m\u001b[1;32mFalse\u001b[0m\u001b[1;33m,\u001b[0m \u001b[0mmax_intensity\u001b[0m\u001b[1;33m=\u001b[0m\u001b[1;36m2000\u001b[0m\u001b[1;33m,\u001b[0m \u001b[0mpoint_radius\u001b[0m\u001b[1;33m=\u001b[0m\u001b[1;36m1\u001b[0m\u001b[1;33m)\u001b[0m\u001b[1;33m\u001b[0m\u001b[1;33m\u001b[0m\u001b[0m\n\u001b[0m\u001b[0;32m     25\u001b[0m \u001b[1;33m\u001b[0m\u001b[0m\n\u001b[0;32m     26\u001b[0m \u001b[1;31m#Add layer\u001b[0m\u001b[1;33m\u001b[0m\u001b[1;33m\u001b[0m\u001b[1;33m\u001b[0m\u001b[0m\n",
      "\u001b[1;31mNameError\u001b[0m: name 'weights' is not defined"
     ]
    }
   ],
   "source": [
    "#Access maps with API key\n",
    "gmaps.configure(api_key=g_key)\n",
    "\n",
    "highest_avg_cp = cleaned_csv[cleaned_csv['primary'] == 'Dragon']\n",
    "locations = highest_avg_cp[[\"lat\", \"lng\"]]\n",
    "cp = highest_avg_cp[\"cp\"].astype(float)\n",
    "# Using the template add marks to the heatmap\n",
    "info_box_template = \"\"\"\n",
    "<dl>\n",
    "<dt>Name</dt><dd>{name}</dd>\n",
    "<dt>CP</dt><dd>{cp}</dd>\n",
    "</dl>\n",
    "\"\"\"\n",
    "# Store the DataFrame Row\n",
    "# NOTE: be sure to update with your DataFrame name\n",
    "poke_info = [info_box_template.format(**row) for index, row in highest_avg_cp.iterrows()]\n",
    "\n",
    "#Plot Heatmap\n",
    "fig = gmaps.figure()\n",
    "#Add markers\n",
    "markers = gmaps.marker_layer(locations, info_box_content=poke_info)\n",
    "fig.add_layer(markers)\n",
    "#Create Heatlayer\n",
    "heat_layer = gmaps.heatmap_layer(locations, cp, dissipating=False, max_intensity=2000, point_radius=1)\n",
    "\n",
    "#Add layer\n",
    "fig.add_layer(heat_layer)\n",
    "\n",
    "fig"
   ]
  },
  {
   "cell_type": "code",
   "execution_count": 11,
   "metadata": {},
   "outputs": [
    {
     "output_type": "display_data",
     "data": {
      "text/plain": "Figure(layout=FigureLayout(height='420px'))",
      "application/vnd.jupyter.widget-view+json": {
       "version_major": 2,
       "version_minor": 0,
       "model_id": "41a9d51bf57641b49156151d787a4892"
      }
     },
     "metadata": {}
    }
   ],
   "source": [
    "highest_avg_cp = cleaned_csv[cleaned_csv['primary']]\n",
    "locations = highest_avg_cp[[\"lat\", \"lng\"]]\n",
    "cp = highest_avg_cp[\"cp\"]\n",
    "\n",
    "# NOTE: be sure to update with your DataFrame name\n",
    "poke_info = [info_box_template.format(**row) for index, row in highest_avg_cp.iterrows()]\n",
    "\n",
    "#Plot Heatmap\n",
    "fig = gmaps.figure()\n",
    "#Add markers\n",
    "markers = gmaps.marker_layer(locations, info_box_content=poke_info)\n",
    "fig.add_layer(markers)\n",
    "#Create Heatlayer\n",
    "heat_layer = gmaps.heatmap_layer(locations, cp, dissipating=False, max_intensity=2000, point_radius=1)\n",
    "\n",
    "#Add layer\n",
    "fig.add_layer(heat_layer)\n",
    "\n",
    "fig"
   ]
  },
  {
   "cell_type": "code",
   "execution_count": 17,
   "metadata": {},
   "outputs": [
    {
     "output_type": "execute_result",
     "data": {
      "text/plain": [
       "          Average Spawn Chance\n",
       "Primary                       \n",
       "Normal              996.178925\n",
       "Poison              521.554016\n",
       "Bug                 379.833365\n",
       "Water               249.047454\n",
       "Psychic             105.984917\n",
       "Rock                 98.861006\n",
       "Fairy                90.213858\n",
       "Grass                86.055763\n",
       "Fighting             77.092287\n",
       "Ghost                76.065783\n",
       "Ground               75.094822\n",
       "Fire                 67.953618\n",
       "Electric             46.232262\n",
       "Ice                  35.000000\n",
       "Dragon               29.236729"
      ],
      "text/html": "<div>\n<style scoped>\n    .dataframe tbody tr th:only-of-type {\n        vertical-align: middle;\n    }\n\n    .dataframe tbody tr th {\n        vertical-align: top;\n    }\n\n    .dataframe thead th {\n        text-align: right;\n    }\n</style>\n<table border=\"1\" class=\"dataframe\">\n  <thead>\n    <tr style=\"text-align: right;\">\n      <th></th>\n      <th>Average Spawn Chance</th>\n    </tr>\n    <tr>\n      <th>Primary</th>\n      <th></th>\n    </tr>\n  </thead>\n  <tbody>\n    <tr>\n      <th>Normal</th>\n      <td>996.178925</td>\n    </tr>\n    <tr>\n      <th>Poison</th>\n      <td>521.554016</td>\n    </tr>\n    <tr>\n      <th>Bug</th>\n      <td>379.833365</td>\n    </tr>\n    <tr>\n      <th>Water</th>\n      <td>249.047454</td>\n    </tr>\n    <tr>\n      <th>Psychic</th>\n      <td>105.984917</td>\n    </tr>\n    <tr>\n      <th>Rock</th>\n      <td>98.861006</td>\n    </tr>\n    <tr>\n      <th>Fairy</th>\n      <td>90.213858</td>\n    </tr>\n    <tr>\n      <th>Grass</th>\n      <td>86.055763</td>\n    </tr>\n    <tr>\n      <th>Fighting</th>\n      <td>77.092287</td>\n    </tr>\n    <tr>\n      <th>Ghost</th>\n      <td>76.065783</td>\n    </tr>\n    <tr>\n      <th>Ground</th>\n      <td>75.094822</td>\n    </tr>\n    <tr>\n      <th>Fire</th>\n      <td>67.953618</td>\n    </tr>\n    <tr>\n      <th>Electric</th>\n      <td>46.232262</td>\n    </tr>\n    <tr>\n      <th>Ice</th>\n      <td>35.000000</td>\n    </tr>\n    <tr>\n      <th>Dragon</th>\n      <td>29.236729</td>\n    </tr>\n  </tbody>\n</table>\n</div>"
     },
     "metadata": {},
     "execution_count": 17
    }
   ],
   "source": [
    "poketype = cleaned_csv.groupby('primary')\n",
    "spawn_chance = poketype['spawn_chance'].mean()\n",
    "spawn_df = spawn_chance.rename_axis('Primary').to_frame('Average Spawn Chance')\n",
    "spawn_df.sort_values(by='Average Spawn Chance', ascending = False)"
   ]
  },
  {
   "cell_type": "code",
   "execution_count": 18,
   "metadata": {},
   "outputs": [
    {
     "output_type": "execute_result",
     "data": {
      "text/plain": [
       "          Capture Rate\n",
       "Primary               \n",
       "Water         0.424168\n",
       "Poison        0.390533\n",
       "Psychic       0.389640\n",
       "Fighting      0.388895\n",
       "Normal        0.383643\n",
       "Ground        0.374971\n",
       "Rock          0.370827\n",
       "Bug           0.359411\n",
       "Grass         0.352180\n",
       "Ghost         0.313639\n",
       "Dragon        0.313458\n",
       "Electric      0.294892\n",
       "Fire          0.248162\n",
       "Ice           0.240000\n",
       "Fairy         0.236853"
      ],
      "text/html": "<div>\n<style scoped>\n    .dataframe tbody tr th:only-of-type {\n        vertical-align: middle;\n    }\n\n    .dataframe tbody tr th {\n        vertical-align: top;\n    }\n\n    .dataframe thead th {\n        text-align: right;\n    }\n</style>\n<table border=\"1\" class=\"dataframe\">\n  <thead>\n    <tr style=\"text-align: right;\">\n      <th></th>\n      <th>Capture Rate</th>\n    </tr>\n    <tr>\n      <th>Primary</th>\n      <th></th>\n    </tr>\n  </thead>\n  <tbody>\n    <tr>\n      <th>Water</th>\n      <td>0.424168</td>\n    </tr>\n    <tr>\n      <th>Poison</th>\n      <td>0.390533</td>\n    </tr>\n    <tr>\n      <th>Psychic</th>\n      <td>0.389640</td>\n    </tr>\n    <tr>\n      <th>Fighting</th>\n      <td>0.388895</td>\n    </tr>\n    <tr>\n      <th>Normal</th>\n      <td>0.383643</td>\n    </tr>\n    <tr>\n      <th>Ground</th>\n      <td>0.374971</td>\n    </tr>\n    <tr>\n      <th>Rock</th>\n      <td>0.370827</td>\n    </tr>\n    <tr>\n      <th>Bug</th>\n      <td>0.359411</td>\n    </tr>\n    <tr>\n      <th>Grass</th>\n      <td>0.352180</td>\n    </tr>\n    <tr>\n      <th>Ghost</th>\n      <td>0.313639</td>\n    </tr>\n    <tr>\n      <th>Dragon</th>\n      <td>0.313458</td>\n    </tr>\n    <tr>\n      <th>Electric</th>\n      <td>0.294892</td>\n    </tr>\n    <tr>\n      <th>Fire</th>\n      <td>0.248162</td>\n    </tr>\n    <tr>\n      <th>Ice</th>\n      <td>0.240000</td>\n    </tr>\n    <tr>\n      <th>Fairy</th>\n      <td>0.236853</td>\n    </tr>\n  </tbody>\n</table>\n</div>"
     },
     "metadata": {},
     "execution_count": 18
    }
   ],
   "source": [
    "spawn_chance = poketype['capture_rate'].mean()\n",
    "spawn_df = spawn_chance.rename_axis('Primary').to_frame('Capture Rate')\n",
    "spawn_df.sort_values(by='Capture Rate', ascending = False)"
   ]
  },
  {
   "cell_type": "code",
   "execution_count": 6,
   "metadata": {},
   "outputs": [
    {
     "output_type": "execute_result",
     "data": {
      "text/plain": [
       "           Average CP\n",
       "Primary              \n",
       "Poison     742.337472\n",
       "Psychic    750.301141\n",
       "Normal     750.316102\n",
       "Bug        775.204481\n",
       "Water      805.157419\n",
       "Ghost      833.060241\n",
       "Ground     903.521699\n",
       "Rock       919.005061\n",
       "Electric   947.103846\n",
       "Fighting   975.860917\n",
       "Dragon    1010.989957\n",
       "Grass     1180.466268\n",
       "Fairy     1232.703758\n",
       "Fire      1387.389116\n",
       "Ice       1728.000000"
      ],
      "text/html": "<div>\n<style scoped>\n    .dataframe tbody tr th:only-of-type {\n        vertical-align: middle;\n    }\n\n    .dataframe tbody tr th {\n        vertical-align: top;\n    }\n\n    .dataframe thead th {\n        text-align: right;\n    }\n</style>\n<table border=\"1\" class=\"dataframe\">\n  <thead>\n    <tr style=\"text-align: right;\">\n      <th></th>\n      <th>Average CP</th>\n    </tr>\n    <tr>\n      <th>Primary</th>\n      <th></th>\n    </tr>\n  </thead>\n  <tbody>\n    <tr>\n      <th>Poison</th>\n      <td>742.337472</td>\n    </tr>\n    <tr>\n      <th>Psychic</th>\n      <td>750.301141</td>\n    </tr>\n    <tr>\n      <th>Normal</th>\n      <td>750.316102</td>\n    </tr>\n    <tr>\n      <th>Bug</th>\n      <td>775.204481</td>\n    </tr>\n    <tr>\n      <th>Water</th>\n      <td>805.157419</td>\n    </tr>\n    <tr>\n      <th>Ghost</th>\n      <td>833.060241</td>\n    </tr>\n    <tr>\n      <th>Ground</th>\n      <td>903.521699</td>\n    </tr>\n    <tr>\n      <th>Rock</th>\n      <td>919.005061</td>\n    </tr>\n    <tr>\n      <th>Electric</th>\n      <td>947.103846</td>\n    </tr>\n    <tr>\n      <th>Fighting</th>\n      <td>975.860917</td>\n    </tr>\n    <tr>\n      <th>Dragon</th>\n      <td>1010.989957</td>\n    </tr>\n    <tr>\n      <th>Grass</th>\n      <td>1180.466268</td>\n    </tr>\n    <tr>\n      <th>Fairy</th>\n      <td>1232.703758</td>\n    </tr>\n    <tr>\n      <th>Fire</th>\n      <td>1387.389116</td>\n    </tr>\n    <tr>\n      <th>Ice</th>\n      <td>1728.000000</td>\n    </tr>\n  </tbody>\n</table>\n</div>"
     },
     "metadata": {},
     "execution_count": 6
    }
   ],
   "source": [
    "avg_cp = poketype['cp'].mean()\n",
    "cp_df = avg_cp.rename_axis('Primary').to_frame('Average CP')\n",
    "cp_df.sort_values(by='Average CP', ascending = True)\n",
    "\n"
   ]
  }
 ]
}